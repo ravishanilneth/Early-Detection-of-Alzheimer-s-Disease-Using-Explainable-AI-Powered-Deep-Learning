{
  "cells": [
    {
      "cell_type": "markdown",
      "metadata": {
        "id": "view-in-github",
        "colab_type": "text"
      },
      "source": [
        "<a href=\"https://colab.research.google.com/github/ravishanilneth/Early-Detection-of-Alzheimer-s-Disease-Using-Explainable-AI-Powered-Deep-Learning/blob/main/MRI_Preprocessing_in_nifti.ipynb\" target=\"_parent\"><img src=\"https://colab.research.google.com/assets/colab-badge.svg\" alt=\"Open In Colab\"/></a>"
      ]
    },
    {
      "cell_type": "code",
      "execution_count": null,
      "id": "3df8c46c",
      "metadata": {
        "id": "3df8c46c",
        "outputId": "48a6b74d-acb0-499b-9ddb-0a23b5d1b3ff"
      },
      "outputs": [
        {
          "name": "stdout",
          "output_type": "stream",
          "text": [
            "Collecting nibabel\n",
            "  Using cached nibabel-5.2.1-py3-none-any.whl (3.3 MB)\n",
            "Requirement already satisfied: numpy>=1.20 in c:\\users\\raviya\\appdata\\local\\programs\\python\\python311\\lib\\site-packages (from nibabel) (1.23.5)\n",
            "Requirement already satisfied: packaging>=17 in c:\\users\\raviya\\appdata\\local\\programs\\python\\python311\\lib\\site-packages (from nibabel) (23.0)\n",
            "Installing collected packages: nibabel\n",
            "Successfully installed nibabel-5.2.1\n",
            "Note: you may need to restart the kernel to use updated packages.\n"
          ]
        },
        {
          "name": "stderr",
          "output_type": "stream",
          "text": [
            "\n",
            "[notice] A new release of pip available: 22.3.1 -> 24.0\n",
            "[notice] To update, run: python.exe -m pip install --upgrade pip\n"
          ]
        }
      ],
      "source": [
        "pip install nibabel"
      ]
    },
    {
      "cell_type": "code",
      "execution_count": null,
      "id": "2b99048d",
      "metadata": {
        "id": "2b99048d",
        "outputId": "7703cfb2-3f23-4b27-c48a-32d2b7e6fb6b"
      },
      "outputs": [
        {
          "name": "stdout",
          "output_type": "stream",
          "text": [
            "Preprocessing completed successfully.\n"
          ]
        }
      ],
      "source": [
        "import os\n",
        "import numpy as np\n",
        "import nibabel as nib\n",
        "import matplotlib.pyplot as plt\n",
        "from skimage import exposure\n",
        "from skimage.filters import threshold_otsu\n",
        "from skimage.morphology import binary_erosion, binary_dilation\n",
        "from skimage.measure import label, regionprops\n",
        "from skimage.transform import resize\n",
        "from scipy.ndimage import zoom\n",
        "\n",
        "# Function to preprocess MRI images for Alzheimer's disease detection\n",
        "def preprocess_mri(nii_file_path, output_file_path):\n",
        "    # Load the .nii file\n",
        "    img = nib.load(nii_file_path)\n",
        "    img_data = img.get_fdata()\n",
        "\n",
        "    # Intensity normalization\n",
        "    img_data = exposure.rescale_intensity(img_data)\n",
        "\n",
        "    # Skull stripping\n",
        "    threshold = threshold_otsu(img_data)\n",
        "    binary_mask = img_data > threshold\n",
        "    labeled_mask = label(binary_mask)\n",
        "    largest_region = max(regionprops(labeled_mask), key=lambda r: r.area)\n",
        "    binary_mask = labeled_mask == largest_region.label\n",
        "    img_data[~binary_mask] = 0\n",
        "\n",
        "    # Resize the image to a common resolution\n",
        "    target_shape = (128, 128, 128)\n",
        "    img_data = zoom(img_data,\n",
        "                    (target_shape[0] / img_data.shape[0],\n",
        "                     target_shape[1] / img_data.shape[1],\n",
        "                     target_shape[2] / img_data.shape[2]))\n",
        "\n",
        "    # Save the preprocessed image\n",
        "    nib.save(nib.Nifti1Image(img_data, img.affine), output_file_path)\n",
        "\n",
        "# Path to the main folder containing subfolders for each patient\n",
        "main_folder = \"D:/KDU/final year research/Alzhimer's disease early detection/SUPIRI DATASETS/OASIS1/OASIS_MNI_Registered-main\"\n",
        "\n",
        "# Output folder to save preprocessed images\n",
        "output_folder = \"C:/Users/RAVIYA/Desktop/preprocessed output\"\n",
        "\n",
        "# Iterate through subfolders for each patient\n",
        "for root, dirs, files in os.walk(main_folder):\n",
        "    for file in files:\n",
        "        if file.endswith('.nii'):\n",
        "            nii_file_path = os.path.join(root, file)\n",
        "            # Create the corresponding output path\n",
        "            relative_path = os.path.relpath(root, main_folder)\n",
        "            output_subfolder = os.path.join(output_folder, relative_path)\n",
        "            os.makedirs(output_subfolder, exist_ok=True)\n",
        "            output_file_path = os.path.join(output_subfolder, file)\n",
        "            preprocess_mri(nii_file_path, output_file_path)\n",
        "\n",
        "print(\"Preprocessing completed successfully.\")\n"
      ]
    }
  ],
  "metadata": {
    "kernelspec": {
      "display_name": "Python 3 (ipykernel)",
      "language": "python",
      "name": "python3"
    },
    "language_info": {
      "codemirror_mode": {
        "name": "ipython",
        "version": 3
      },
      "file_extension": ".py",
      "mimetype": "text/x-python",
      "name": "python",
      "nbconvert_exporter": "python",
      "pygments_lexer": "ipython3",
      "version": "3.11.1"
    },
    "colab": {
      "provenance": [],
      "include_colab_link": true
    }
  },
  "nbformat": 4,
  "nbformat_minor": 5
}