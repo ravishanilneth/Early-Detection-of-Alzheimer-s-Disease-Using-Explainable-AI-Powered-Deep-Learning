{
  "cells": [
    {
      "cell_type": "markdown",
      "metadata": {
        "id": "view-in-github",
        "colab_type": "text"
      },
      "source": [
        "<a href=\"https://colab.research.google.com/github/ravishanilneth/Early-Detection-of-Alzheimer-s-Disease-Using-Explainable-AI-Powered-Deep-Learning/blob/main/Multi_Feature_Model_with_XAI_and_Web_Application.ipynb\" target=\"_parent\"><img src=\"https://colab.research.google.com/assets/colab-badge.svg\" alt=\"Open In Colab\"/></a>"
      ]
    },
    {
      "cell_type": "code",
      "execution_count": null,
      "id": "d97fbd82",
      "metadata": {
        "id": "d97fbd82"
      },
      "outputs": [],
      "source": [
        "import os\n",
        "import numpy as np\n",
        "import pandas as pd\n",
        "import nibabel as nib\n",
        "import cv2\n",
        "from sklearn.preprocessing import LabelEncoder, MinMaxScaler\n",
        "from sklearn.model_selection import train_test_split\n",
        "from tensorflow.keras.utils import to_categorical\n",
        "from tensorflow.keras.preprocessing.image import ImageDataGenerator\n",
        "import tensorflow as tf\n",
        "import matplotlib.pyplot as plt\n",
        "import seaborn as sns"
      ]
    },
    {
      "cell_type": "code",
      "execution_count": null,
      "id": "b4e41005",
      "metadata": {
        "id": "b4e41005",
        "outputId": "ff93008f-821e-407f-e098-46fa2592d50d"
      },
      "outputs": [
        {
          "name": "stdout",
          "output_type": "stream",
          "text": [
            "Image shape: (128, 128, 128)\n",
            "The image is grayscale (single channel).\n"
          ]
        }
      ],
      "source": [
        "# Load the MRI image\n",
        "mri_image_path = \"D:/KDU/final year research/Alzhimer's disease early detection/SUPIRI DATASETS/final/Mild Dementia/IMG_OAS1_0028_MR1/OAS1_0028_MR1_mpr-1_anon.nii_registered.nii\"\n",
        "mri_image = nib.load(mri_image_path)\n",
        "\n",
        "# Get the image data\n",
        "mri_data = mri_image.get_fdata()\n",
        "\n",
        "# Check the shape of the image\n",
        "print(f\"Image shape: {mri_data.shape}\")\n",
        "\n",
        "# Check if the image has more than 1 channel (RGB vs grayscale)\n",
        "if len(mri_data.shape) == 3:\n",
        "    print(\"The image is grayscale (single channel).\")\n",
        "elif len(mri_data.shape) == 4 and mri_data.shape[-1] == 3:\n",
        "    print(\"The image is RGB (3 channels).\")\n",
        "else:\n",
        "    print(\"The image format is unexpected.\")"
      ]
    },
    {
      "cell_type": "code",
      "execution_count": null,
      "id": "c225f1bf",
      "metadata": {
        "id": "c225f1bf"
      },
      "outputs": [],
      "source": [
        "# Constants\n",
        "IMG_SIZE = 128\n",
        "NUM_SLICES = 10\n",
        "CHANNELS = 3  # RGB\n",
        "SLICE_SELECTION = 'middle'\n",
        "CLASSES = ['Non Demented', 'Very Mild Dementia', 'Mild Dementia', 'Moderate Dementia']\n",
        "\n",
        "# Load and preprocess a NIfTI image\n",
        "def load_nifti_image(file_path):\n",
        "    img = nib.load(file_path)\n",
        "    img_data = img.get_fdata()\n",
        "\n",
        "    # Normalize the image\n",
        "    img_data = (img_data - np.min(img_data)) / (np.max(img_data) - np.min(img_data))\n",
        "\n",
        "    if SLICE_SELECTION == 'middle':\n",
        "        slice_index = img_data.shape[2] // 2\n",
        "        img_slice = img_data[:, :, slice_index]\n",
        "        img_slice = cv2.resize(img_slice, (IMG_SIZE, IMG_SIZE))\n",
        "        img_slice_rgb = np.stack((img_slice,) * 3, axis=-1)\n",
        "        return img_slice_rgb\n",
        "    elif SLICE_SELECTION == 'custom':\n",
        "        slices = []\n",
        "        indices = np.linspace(0, img_data.shape[2] - 1, NUM_SLICES).astype(int)\n",
        "        for i in indices:\n",
        "            img_slice = cv2.resize(img_data[:, :, i], (IMG_SIZE, IMG_SIZE))\n",
        "            img_slice_rgb = np.stack((img_slice,) * 3, axis=-1)\n",
        "            slices.append(img_slice_rgb)\n",
        "        return np.array(slices)\n",
        "\n",
        "# Preprocess tabular dataset\n",
        "data = pd.read_csv(\"D:/KDU/final year research/AD ML files/datasets/oasis_cross-sectional.csv\")\n",
        "data.drop(['Hand', 'Delay', 'CDR', 'eTIV', 'ASF', 'M/F', 'SES'], axis=1, inplace=True)\n",
        "data.dropna(subset=['Group'], inplace=True)\n",
        "data['MMSE'].fillna(data['MMSE'].median(), inplace=True)\n",
        "data['Educ'].fillna(data['Educ'].mode()[0], inplace=True)\n",
        "\n",
        "# Encode labels and scale features\n",
        "label_encoder = LabelEncoder()\n",
        "y_encoded = label_encoder.fit_transform(data['Group'])\n",
        "data['Educ'] = LabelEncoder().fit_transform(data['Educ'].astype(str))\n",
        "scaler = MinMaxScaler()\n",
        "data['MMSE'] = scaler.fit_transform(data[['MMSE']])\n",
        "\n",
        "X_tab = data[['Age', 'Educ', 'MMSE', 'nWBV']]\n",
        "y = to_categorical(y_encoded, num_classes=len(CLASSES))\n",
        "\n",
        "# Load MRI data\n",
        "def prepare_mri_data(main_dir, classes):\n",
        "    patient_paths = []\n",
        "    labels = []\n",
        "    for label, class_name in enumerate(classes):\n",
        "        class_dir = os.path.join(main_dir, class_name)\n",
        "        for patient_folder in os.listdir(class_dir):\n",
        "            patient_dir = os.path.join(class_dir, patient_folder)\n",
        "            if not os.path.isdir(patient_dir):\n",
        "                continue\n",
        "            nifti_files = [os.path.join(patient_dir, f) for f in os.listdir(patient_dir)\n",
        "                           if f.endswith('.nii') or f.endswith('.nii.gz')]\n",
        "            patient_paths.append(nifti_files)\n",
        "            labels.append(label)\n",
        "    return patient_paths, labels\n",
        "\n",
        "main_dir = \"D:/KDU/final year research/Alzhimer's disease early detection/SUPIRI DATASETS/final\"\n",
        "mri_patient_paths, mri_labels = prepare_mri_data(main_dir, CLASSES)"
      ]
    },
    {
      "cell_type": "code",
      "execution_count": null,
      "id": "221ed7a1",
      "metadata": {
        "id": "221ed7a1"
      },
      "outputs": [],
      "source": [
        "# Extract patient IDs from the tabular data\n",
        "tabular_ids = data['ID'].str.extract(r'(OAS1_\\d{4}_MR1)')[0].values\n",
        "\n",
        "# Extract patient IDs from MRI paths\n",
        "mri_ids = [os.path.basename(paths[0]).split('_')[1] for paths in mri_patient_paths]\n",
        "standardized_mri_ids = ['OAS1_' + id + '_MR1' for id in mri_ids]\n",
        "\n",
        "# Ensure both datasets are sorted by ID for proper alignment\n",
        "sorted_tabular_indices = np.argsort(tabular_ids)\n",
        "sorted_mri_indices = np.argsort(standardized_mri_ids)\n",
        "\n",
        "# Ensure X_tab is a numpy array if not already\n",
        "X_tab = np.array(X_tab)\n",
        "\n",
        "# Sort the tabular and MRI data by their IDs using numpy indexing\n",
        "X_tab_sorted = X_tab[sorted_tabular_indices]\n",
        "y_sorted = y[sorted_tabular_indices]\n",
        "\n",
        "# Correctly sorting mri_patient_paths using the list of indices\n",
        "mri_patient_paths_sorted = [mri_patient_paths[i] for i in sorted_mri_indices]\n",
        "\n",
        "# Data Augmentation for MRI images\n",
        "datagen = ImageDataGenerator(\n",
        "    rotation_range=20,\n",
        "    width_shift_range=0.1,\n",
        "    height_shift_range=0.1,\n",
        "    horizontal_flip=True,\n",
        "    fill_mode='nearest'\n",
        ")\n",
        "\n",
        "def augment_mri_images(mri_images, tabular_data, labels, num_augmented=5):\n",
        "    augmented_images = []\n",
        "    augmented_tabular = []\n",
        "    augmented_labels = []\n",
        "\n",
        "    for img, tab, label in zip(mri_images, tabular_data, labels):\n",
        "        # Augment the entire MRI by applying augmentation to each slice independently\n",
        "        for _ in range(num_augmented):\n",
        "            augmented_patient_slices = []\n",
        "            for slice_img in img:\n",
        "                slice_img = np.expand_dims(slice_img, axis=0)\n",
        "                it = datagen.flow(slice_img, batch_size=1)\n",
        "                augmented_img = it.next()[0].astype(np.float32)\n",
        "                augmented_patient_slices.append(augmented_img)\n",
        "\n",
        "            # Append the augmented MRI scan\n",
        "            augmented_images.append(np.array(augmented_patient_slices))\n",
        "            augmented_tabular.append(tab)\n",
        "            augmented_labels.append(label)\n",
        "\n",
        "    return np.array(augmented_images), np.array(augmented_tabular), np.array(augmented_labels)\n",
        "\n",
        "# Now load and sort MRI images using the sorted paths\n",
        "def load_images(paths):\n",
        "    images = []\n",
        "    for patient_files in paths:\n",
        "        patient_slices = []\n",
        "        for file_path in patient_files:\n",
        "            image_data = load_nifti_image(file_path)\n",
        "            patient_slices.append(image_data)\n",
        "\n",
        "        patient_slices = np.array(patient_slices)\n",
        "\n",
        "        if len(patient_slices) < NUM_SLICES:\n",
        "            padding = np.zeros((NUM_SLICES - len(patient_slices), IMG_SIZE, IMG_SIZE, CHANNELS))\n",
        "            patient_slices = np.concatenate((patient_slices, padding), axis=0)\n",
        "        else:\n",
        "            patient_slices = patient_slices[:NUM_SLICES]\n",
        "\n",
        "        images.append(patient_slices)\n",
        "\n",
        "    return np.array(images, dtype=np.float32)"
      ]
    },
    {
      "cell_type": "code",
      "execution_count": null,
      "id": "d43ad04a",
      "metadata": {
        "id": "d43ad04a"
      },
      "outputs": [],
      "source": [
        "# Load sorted MRI images\n",
        "X_mri = load_images(mri_patient_paths_sorted)\n",
        "\n",
        "# Now X_tab_sorted and X_mri are aligned\n",
        "X_tab = X_tab_sorted\n",
        "y = y_sorted\n",
        "\n",
        "# Apply augmentation\n",
        "X_mri_aug, X_tab_aug, y_aug = augment_mri_images(X_mri, X_tab, y_sorted)"
      ]
    },
    {
      "cell_type": "code",
      "execution_count": null,
      "id": "c6d517d9",
      "metadata": {
        "id": "c6d517d9",
        "outputId": "4bf41f1f-6e5a-4f9b-c5ec-397af5371bb5"
      },
      "outputs": [
        {
          "name": "stdout",
          "output_type": "stream",
          "text": [
            "Train MRI shape: (792, 10, 128, 128, 3), Train labels shape: (792, 4)\n",
            "Validation MRI shape: (88, 10, 128, 128, 3), Validation labels shape: (88, 4)\n",
            "Test MRI shape: (220, 10, 128, 128, 3), Test labels shape: (220, 4)\n",
            "Train tabular shape: (792, 4), Validation tabular shape: (88, 4), Test tabular shape: (220, 4)\n"
          ]
        }
      ],
      "source": [
        "# Use augmented data for splitting\n",
        "X_mri_train, X_mri_test, X_tab_train, X_tab_test, y_train, y_test = train_test_split(\n",
        "    X_mri_aug, X_tab_aug, y_aug, test_size=0.2, stratify=y_aug\n",
        ")\n",
        "X_mri_train, X_mri_val, X_tab_train, X_tab_val, y_train, y_val = train_test_split(\n",
        "    X_mri_train, X_tab_train, y_train, test_size=0.1, stratify=y_train\n",
        ")\n",
        "\n",
        "# Print shapes to verify correctness\n",
        "print(f\"Train MRI shape: {X_mri_train.shape}, Train labels shape: {y_train.shape}\")\n",
        "print(f\"Validation MRI shape: {X_mri_val.shape}, Validation labels shape: {y_val.shape}\")\n",
        "print(f\"Test MRI shape: {X_mri_test.shape}, Test labels shape: {y_test.shape}\")\n",
        "print(f\"Train tabular shape: {X_tab_train.shape}, Validation tabular shape: {X_tab_val.shape}, Test tabular shape: {X_tab_test.shape}\")"
      ]
    },
    {
      "cell_type": "code",
      "execution_count": null,
      "id": "db097842",
      "metadata": {
        "id": "db097842",
        "outputId": "c8000e8e-4bca-4cc8-bc1a-c80e47306055"
      },
      "outputs": [
        {
          "name": "stdout",
          "output_type": "stream",
          "text": [
            "All MRI data and tabular data match correctly.\n",
            "Proceeding with aligned MRI and tabular data.\n"
          ]
        }
      ],
      "source": [
        "# Assuming `mri_patient_paths_sorted` contains paths with patient IDs and `X_tab_sorted` corresponds to tabular data with matching IDs\n",
        "\n",
        "def verify_data_alignment(mri_patient_paths, tabular_ids):\n",
        "    # Extract patient IDs from MRI file paths\n",
        "    mri_ids = [os.path.basename(paths[0]).split('_')[1] for paths in mri_patient_paths]\n",
        "    standardized_mri_ids = ['OAS1_' + id + '_MR1' for id in mri_ids]\n",
        "\n",
        "    # Extract patient IDs from tabular data\n",
        "    tabular_patient_ids = tabular_ids\n",
        "\n",
        "    # Ensure both are sorted for direct comparison\n",
        "    sorted_mri_ids = np.array(standardized_mri_ids)\n",
        "    sorted_tabular_ids = np.array(tabular_patient_ids)\n",
        "\n",
        "    # Check for mismatches\n",
        "    mismatched_ids = np.setdiff1d(sorted_mri_ids, sorted_tabular_ids)\n",
        "    if len(mismatched_ids) > 0:\n",
        "        print(f\"Mismatched MRI IDs not present in tabular data: {mismatched_ids}\")\n",
        "        return False\n",
        "\n",
        "    mismatched_tabular_ids = np.setdiff1d(sorted_tabular_ids, sorted_mri_ids)\n",
        "    if len(mismatched_tabular_ids) > 0:\n",
        "        print(f\"Mismatched tabular IDs not present in MRI data: {mismatched_tabular_ids}\")\n",
        "        return False\n",
        "\n",
        "    print(\"All MRI data and tabular data match correctly.\")\n",
        "    return True\n",
        "\n",
        "# Verify if MRI data and tabular data are aligned\n",
        "alignment_status = verify_data_alignment(mri_patient_paths_sorted, data['ID'].str.extract(r'(OAS1_\\d{4}_MR1)')[0].values)\n",
        "\n",
        "if not alignment_status:\n",
        "    print(\"Warning: There is a misalignment between MRI and tabular data. Please correct before proceeding.\")\n",
        "else:\n",
        "    print(\"Proceeding with aligned MRI and tabular data.\")"
      ]
    },
    {
      "cell_type": "code",
      "execution_count": null,
      "id": "96051de5",
      "metadata": {
        "id": "96051de5"
      },
      "outputs": [],
      "source": [
        "from tensorflow.keras.applications import ResNet50V2\n",
        "from tensorflow.keras.layers import Input, Dense, Dropout, GlobalAveragePooling2D, TimeDistributed, Concatenate, Flatten\n",
        "from tensorflow.keras.models import Model\n",
        "from tensorflow.keras.optimizers import Adam\n",
        "from tensorflow.keras.metrics import Precision, Recall\n",
        "\n",
        "def create_simplified_hybrid_model(num_classes, img_size, num_slices, tabular_input_shape):\n",
        "    # MRI data input\n",
        "    mri_input = Input(shape=(num_slices, img_size, img_size, CHANNELS), name='mri_input')\n",
        "\n",
        "    # Use ResNet50V2 model\n",
        "    resnet_base = ResNet50V2(\n",
        "        weights='imagenet',\n",
        "        include_top=False,\n",
        "        input_shape=(img_size, img_size, CHANNELS)\n",
        "    )\n",
        "\n",
        "    # Freeze most of the ResNet layers to prevent overfitting\n",
        "    for layer in resnet_base.layers[:-20]:\n",
        "        layer.trainable = False\n",
        "\n",
        "    # Process MRI slices\n",
        "    x = TimeDistributed(resnet_base)(mri_input)\n",
        "    x = TimeDistributed(GlobalAveragePooling2D())(x)\n",
        "    x = Flatten()(x)\n",
        "\n",
        "    # Dense layer for initial MRI feature processing\n",
        "    x = Dense(256, activation='relu')(x)\n",
        "    x = Dropout(0.5)(x)\n",
        "\n",
        "    # Tabular data input\n",
        "    tabular_input = Input(shape=(tabular_input_shape,), name='tabular_input')\n",
        "\n",
        "    # Processing for tabular data\n",
        "    tab_x = Dense(64, activation='relu')(tabular_input)\n",
        "    tab_x = Dropout(0.3)(tab_x)\n",
        "\n",
        "    # Combine MRI and tabular features\n",
        "    concatenated = Concatenate()([x, tab_x])\n",
        "\n",
        "    # Final classification layers\n",
        "    x = Dense(128, activation='relu')(concatenated)\n",
        "    x = Dropout(0.4)(x)\n",
        "    output = Dense(num_classes, activation='softmax', name='output')(x)\n",
        "\n",
        "    # Create model\n",
        "    model = Model(inputs=[mri_input, tabular_input], outputs=output)\n",
        "\n",
        "    return model\n",
        "\n",
        "# Create and compile the model\n",
        "num_classes = len(CLASSES)\n",
        "tabular_input_shape = X_tab_train.shape[1]\n",
        "hybrid_model = create_simplified_hybrid_model(num_classes, IMG_SIZE, NUM_SLICES, tabular_input_shape)\n",
        "\n",
        "# Compile with simple settings\n",
        "hybrid_model.compile(\n",
        "    optimizer=Adam(learning_rate=0.0001),\n",
        "    loss='categorical_crossentropy',\n",
        "    metrics=['accuracy', Precision(name='precision'), Recall(name='recall')]\n",
        ")"
      ]
    },
    {
      "cell_type": "code",
      "execution_count": null,
      "id": "7fed89d8",
      "metadata": {
        "id": "7fed89d8",
        "outputId": "41b297a4-46ec-4915-8261-3e5c5b249a13"
      },
      "outputs": [
        {
          "name": "stdout",
          "output_type": "stream",
          "text": [
            "Epoch 1/10\n",
            "25/25 [==============================] - 341s 11s/step - loss: 4.4653 - accuracy: 0.3523 - precision: 0.3550 - recall: 0.3447 - val_loss: 1.5145 - val_accuracy: 0.5682 - val_precision: 0.5632 - val_recall: 0.5568\n",
            "Epoch 2/10\n",
            "25/25 [==============================] - 293s 12s/step - loss: 3.2541 - accuracy: 0.4394 - precision: 0.4458 - recall: 0.4306 - val_loss: 1.0590 - val_accuracy: 0.5682 - val_precision: 0.5875 - val_recall: 0.5341\n",
            "Epoch 3/10\n",
            "25/25 [==============================] - 300s 12s/step - loss: 3.9723 - accuracy: 0.4583 - precision: 0.4607 - recall: 0.4444 - val_loss: 1.0538 - val_accuracy: 0.5795 - val_precision: 0.6216 - val_recall: 0.5227\n",
            "Epoch 4/10\n",
            "25/25 [==============================] - 305s 12s/step - loss: 2.7670 - accuracy: 0.5101 - precision: 0.5196 - recall: 0.5013 - val_loss: 0.9840 - val_accuracy: 0.6250 - val_precision: 0.6310 - val_recall: 0.6023\n",
            "Epoch 5/10\n",
            "25/25 [==============================] - 297s 12s/step - loss: 2.4152 - accuracy: 0.5152 - precision: 0.5252 - recall: 0.5000 - val_loss: 1.1614 - val_accuracy: 0.5795 - val_precision: 0.6000 - val_recall: 0.5455\n",
            "Epoch 6/10\n",
            "25/25 [==============================] - 314s 13s/step - loss: 2.2106 - accuracy: 0.5593 - precision: 0.5688 - recall: 0.5530 - val_loss: 0.9087 - val_accuracy: 0.7045 - val_precision: 0.7317 - val_recall: 0.6818\n",
            "Epoch 7/10\n",
            "25/25 [==============================] - 298s 12s/step - loss: 1.4155 - accuracy: 0.6086 - precision: 0.6111 - recall: 0.5972 - val_loss: 1.0365 - val_accuracy: 0.6364 - val_precision: 0.6471 - val_recall: 0.6250\n",
            "Epoch 8/10\n",
            "25/25 [==============================] - 299s 12s/step - loss: 1.2600 - accuracy: 0.6616 - precision: 0.6675 - recall: 0.6540 - val_loss: 0.7768 - val_accuracy: 0.6932 - val_precision: 0.7229 - val_recall: 0.6818\n",
            "Epoch 9/10\n",
            "25/25 [==============================] - 313s 13s/step - loss: 0.9432 - accuracy: 0.6843 - precision: 0.6889 - recall: 0.6768 - val_loss: 1.0038 - val_accuracy: 0.6705 - val_precision: 0.6824 - val_recall: 0.6591\n",
            "Epoch 10/10\n",
            "25/25 [==============================] - 304s 12s/step - loss: 0.8516 - accuracy: 0.7247 - precision: 0.7324 - recall: 0.7222 - val_loss: 0.6760 - val_accuracy: 0.7045 - val_precision: 0.7317 - val_recall: 0.6818\n"
          ]
        }
      ],
      "source": [
        "# Train the model with class weights\n",
        "from sklearn.utils.class_weight import compute_class_weight\n",
        "from keras.callbacks import ModelCheckpoint, EarlyStopping\n",
        "\n",
        "class_weights = compute_class_weight('balanced', classes=np.unique(np.argmax(y_train, axis=1)), y=np.argmax(y_train, axis=1))\n",
        "class_weights_dict = {i: weight for i, weight in enumerate(class_weights)}\n",
        "\n",
        "history = hybrid_model.fit(\n",
        "    [X_mri_train, X_tab_train],\n",
        "    y_train,\n",
        "    validation_data=([X_mri_val, X_tab_val], y_val),\n",
        "    epochs=10,\n",
        "    batch_size=32,\n",
        "    class_weight=class_weights_dict,\n",
        "    callbacks=[\n",
        "        ModelCheckpoint('best_hybrid_model_01.h5', monitor='val_accuracy', save_best_only=True, mode='max'),\n",
        "        EarlyStopping(monitor='val_accuracy', patience=5, mode='max', restore_best_weights=True)\n",
        "    ]\n",
        ")"
      ]
    },
    {
      "cell_type": "code",
      "execution_count": null,
      "id": "24c69e0a",
      "metadata": {
        "id": "24c69e0a",
        "outputId": "1324fc2e-c86a-4bcc-e9a6-6f835aa2b7e4"
      },
      "outputs": [
        {
          "name": "stdout",
          "output_type": "stream",
          "text": [
            "7/7 [==============================] - 31s 4s/step - loss: 0.9364 - accuracy: 0.6955 - precision: 0.7122 - recall: 0.6636\n",
            "Test Loss: 0.9364\n",
            "Test Accuracy: 69.55%\n",
            "Test Precision: 71.22%\n",
            "Test Recall: 66.36%\n",
            "7/7 [==============================] - 35s 5s/step\n",
            "\n",
            "Confusion Matrix:\n",
            "[[15  0  3  8]\n",
            " [ 0  2  0  0]\n",
            " [ 2  0 98 23]\n",
            " [ 1  0 30 38]]\n"
          ]
        }
      ],
      "source": [
        "# Load the saved model weights\n",
        "hybrid_model.load_weights('best_hybrid_model_01.h5')\n",
        "\n",
        "# Evaluate the model\n",
        "test_results = hybrid_model.evaluate(\n",
        "    [X_mri_test, X_tab_test],\n",
        "    y_test,\n",
        "    verbose=1\n",
        ")\n",
        "\n",
        "# Print results\n",
        "print(f'Test Loss: {test_results[0]:.4f}')\n",
        "print(f'Test Accuracy: {test_results[1] * 100:.2f}%')\n",
        "print(f'Test Precision: {test_results[2] * 100:.2f}%')\n",
        "print(f'Test Recall: {test_results[3] * 100:.2f}%')\n",
        "\n",
        "# Get predictions for confusion matrix\n",
        "y_pred = hybrid_model.predict([X_mri_test, X_tab_test])\n",
        "y_pred_classes = np.argmax(y_pred, axis=1)\n",
        "y_test_classes = np.argmax(y_test, axis=1)\n",
        "\n",
        "# Print confusion matrix\n",
        "from sklearn.metrics import confusion_matrix\n",
        "print(\"\\nConfusion Matrix:\")\n",
        "print(confusion_matrix(y_test_classes, y_pred_classes))"
      ]
    },
    {
      "cell_type": "code",
      "execution_count": null,
      "id": "8ac61121",
      "metadata": {
        "id": "8ac61121",
        "outputId": "5e7abcd3-f59a-4f5e-d018-f913dba9c548"
      },
      "outputs": [
        {
          "name": "stdout",
          "output_type": "stream",
          "text": [
            "7/7 [==============================] - 30s 4s/step\n"
          ]
        },
        {
          "data": {
            "image/png": "[encoded data removed]",
            "text/plain": [
              "<Figure size 800x600 with 2 Axes>"
            ]
          },
          "metadata": {},
          "output_type": "display_data"
        }
      ],
      "source": [
        "# Create and display a confusion matrix\n",
        "from sklearn.metrics import confusion_matrix\n",
        "import seaborn as sns\n",
        "\n",
        "y_pred = np.argmax(hybrid_model.predict([X_mri_test, X_tab_test]), axis=1)\n",
        "y_true = np.argmax(y_test, axis=1)\n",
        "conf_matrix = confusion_matrix(y_true, y_pred)\n",
        "\n",
        "plt.figure(figsize=(8, 6))\n",
        "sns.heatmap(conf_matrix, annot=True, fmt=\"d\", cmap=\"Blues\", xticklabels=CLASSES, yticklabels=CLASSES)\n",
        "plt.title(\"Confusion Matrix\")\n",
        "plt.xlabel(\"Predicted Labels\")\n",
        "plt.ylabel(\"True Labels\")\n",
        "plt.show()"
      ]
    },
    {
      "cell_type": "code",
      "execution_count": null,
      "id": "f5ae72c1",
      "metadata": {
        "id": "f5ae72c1",
        "outputId": "52a896be-1c46-495b-e487-bce39a236726"
      },
      "outputs": [
        {
          "data": {
            "image/png": "[encoded data removed]",
            "text/plain": [
              "<Figure size 1200x500 with 2 Axes>"
            ]
          },
          "metadata": {},
          "output_type": "display_data"
        }
      ],
      "source": [
        "import matplotlib.pyplot as plt\n",
        "\n",
        "def plot_learning_curves(history):\n",
        "    acc = history.history['accuracy']\n",
        "    val_acc = history.history['val_accuracy']\n",
        "    loss = history.history['loss']\n",
        "    val_loss = history.history['val_loss']\n",
        "\n",
        "    epochs = range(1, len(acc) + 1)\n",
        "\n",
        "    # Plotting training and validation accuracy\n",
        "    plt.figure(figsize=(12, 5))\n",
        "\n",
        "    # Accuracy subplot\n",
        "    plt.subplot(1, 2, 1)\n",
        "    plt.plot(epochs, acc, 'b', label='Training accuracy')\n",
        "    plt.plot(epochs, val_acc, 'r', label='Validation accuracy')\n",
        "    plt.title('Training and Validation Accuracy')\n",
        "    plt.xlabel('Epochs')\n",
        "    plt.ylabel('Accuracy')\n",
        "    plt.legend()\n",
        "    plt.xlim(0, len(epochs))  # Ensure x-axis starts from 0\n",
        "    plt.ylim(0, 1)            # Ensure y-axis (accuracy) starts from 0 and goes up to 1\n",
        "\n",
        "    # Loss subplot\n",
        "    plt.subplot(1, 2, 2)\n",
        "    plt.plot(epochs, loss, 'b', label='Training loss')\n",
        "    plt.plot(epochs, val_loss, 'r', label='Validation loss')\n",
        "    plt.title('Training and Validation Loss')\n",
        "    plt.xlabel('Epochs')\n",
        "    plt.ylabel('Loss')\n",
        "    plt.legend()\n",
        "    plt.xlim(0, len(epochs))  # Ensure x-axis starts from 0\n",
        "    plt.ylim(0, max(max(loss), max(val_loss)) * 1.1)  # Ensure y-axis (loss) starts from 0\n",
        "\n",
        "    plt.tight_layout()\n",
        "    plt.show()\n",
        "\n",
        "# Plot learning curves\n",
        "plot_learning_curves(history)"
      ]
    },
    {
      "cell_type": "code",
      "execution_count": null,
      "id": "bb273536",
      "metadata": {
        "id": "bb273536",
        "outputId": "d2d1aea6-6d1f-46c0-ce8d-64305b6f94b1"
      },
      "outputs": [
        {
          "data": {
            "image/png": "[encoded data removed]",
            "text/plain": [
              "<Figure size 640x480 with 1 Axes>"
            ]
          },
          "metadata": {},
          "output_type": "display_data"
        },
        {
          "name": "stdout",
          "output_type": "stream",
          "text": [
            "Shape of the 3D MRI image: (91, 109, 91)\n"
          ]
        }
      ],
      "source": [
        "import nibabel as nib\n",
        "import numpy as np\n",
        "import matplotlib.pyplot as plt\n",
        "\n",
        "def extract_middle_slice(mri_image_3d, axis=2):\n",
        "    \"\"\"\n",
        "    Extracts the middle slice along a given axis from the 3D MRI image.\n",
        "\n",
        "    :param mri_image_3d: 3D MRI image (shape: (128, 128, 128))\n",
        "    :param axis: Axis along which to extract the middle slice (default is 2)\n",
        "    :return: 2D middle slice\n",
        "    \"\"\"\n",
        "    middle_index = mri_image_3d.shape[axis] // 2\n",
        "    if axis == 0:\n",
        "        return mri_image_3d[middle_index, :, :]\n",
        "    elif axis == 1:\n",
        "        return mri_image_3d[:, middle_index, :]\n",
        "    else:\n",
        "        return mri_image_3d[:, :, middle_index]\n",
        "\n",
        "# Example usage\n",
        "mri_image_path = \"D:/KDU/final year research/Alzhimer's disease early detection/SUPIRI DATASETS/OASIS1/OASIS_MNI_Registered-main/OAS1_0028_MR1/OAS1_0028_MR1_mpr-1_anon.nii_registered.nii\"\n",
        "mri_image_3d = nib.load(mri_image_path).get_fdata()\n",
        "\n",
        "# Extract the middle slice (along the third axis)\n",
        "mri_slice_2d = extract_middle_slice(mri_image_3d, axis=2)\n",
        "\n",
        "# Visualize the extracted slice\n",
        "plt.imshow(mri_slice_2d, cmap='gray')\n",
        "plt.title('Middle Slice of MRI Image')\n",
        "plt.show()\n",
        "\n",
        "\n",
        "# Check the shape of the original 3D MRI image\n",
        "print(f\"Shape of the 3D MRI image: {mri_image_3d.shape}\")"
      ]
    },
    {
      "cell_type": "code",
      "execution_count": null,
      "id": "ab64a6a5",
      "metadata": {
        "id": "ab64a6a5",
        "outputId": "1ac72db3-1b08-437b-b184-941b21209792"
      },
      "outputs": [
        {
          "data": {
            "image/png": "[encoded data removed]",
            "text/plain": [
              "<Figure size 640x480 with 1 Axes>"
            ]
          },
          "metadata": {},
          "output_type": "display_data"
        },
        {
          "name": "stdout",
          "output_type": "stream",
          "text": [
            "Shape of the 3D MRI image: (128, 128, 128)\n"
          ]
        }
      ],
      "source": [
        "import nibabel as nib\n",
        "import numpy as np\n",
        "import matplotlib.pyplot as plt\n",
        "\n",
        "def extract_middle_slice(mri_image_3d, axis=2):\n",
        "    \"\"\"\n",
        "    Extracts the middle slice along a given axis from the 3D MRI image.\n",
        "\n",
        "    :param mri_image_3d: 3D MRI image (shape: (128, 128, 128))\n",
        "    :param axis: Axis along which to extract the middle slice (default is 2)\n",
        "    :return: 2D middle slice\n",
        "    \"\"\"\n",
        "    middle_index = mri_image_3d.shape[axis] // 2\n",
        "    if axis == 0:\n",
        "        return mri_image_3d[middle_index, :, :]\n",
        "    elif axis == 1:\n",
        "        return mri_image_3d[:, middle_index, :]\n",
        "    else:\n",
        "        return mri_image_3d[:, :, middle_index]\n",
        "\n",
        "# Example usage\n",
        "mri_image_path = \"D:/KDU/final year research/Alzhimer's disease early detection/SUPIRI DATASETS/final/Mild Dementia/IMG_OAS1_0028_MR1/OAS1_0028_MR1_mpr-1_anon.nii_registered.nii\"\n",
        "mri_image_3d = nib.load(mri_image_path).get_fdata()\n",
        "\n",
        "# Extract the middle slice (along the third axis)\n",
        "mri_slice_2d = extract_middle_slice(mri_image_3d, axis=2)\n",
        "\n",
        "# Visualize the extracted slice\n",
        "plt.imshow(mri_slice_2d, cmap='gray')\n",
        "plt.title('Middle Slice of MRI Image')\n",
        "plt.show()\n",
        "\n",
        "\n",
        "# Check the shape of the original 3D MRI image\n",
        "print(f\"Shape of the 3D MRI image: {mri_image_3d.shape}\")"
      ]
    },
    {
      "cell_type": "code",
      "execution_count": null,
      "id": "b9cf8f61",
      "metadata": {
        "id": "b9cf8f61",
        "outputId": "48fc7ade-c4dc-4b12-e665-75cd6ca3b0d8"
      },
      "outputs": [
        {
          "name": "stdout",
          "output_type": "stream",
          "text": [
            "Enter the path to your MRI image: D:/KDU/final year research/Alzhimer's disease early detection/SUPIRI DATASETS/final/Mild Dementia/IMG_OAS1_0137_MR1/OAS1_0137_MR1_mpr-2_anon.nii_registered.nii\n",
            "Enter Age: 87\n",
            "Enter Education Status: 2\n",
            "Enter MMSE score: 22\n",
            "Enter nWBV: 0.672\n",
            "1/1 [==============================] - 0s 421ms/step\n",
            "\n",
            "Predicted Class: Mild Dementia\n",
            "Class Probabilities:\n",
            "Non Demented: 0.1699\n",
            "Very Mild Dementia: 0.0173\n",
            "Mild Dementia: 0.6920\n",
            "Moderate Dementia: 0.1207\n"
          ]
        },
        {
          "name": "stderr",
          "output_type": "stream",
          "text": [
            "  0%|                                                                                         | 0/2000 [00:00<?, ?it/s]"
          ]
        },
        {
          "name": "stdout",
          "output_type": "stream",
          "text": [
            "1/1 [==============================] - 3s 3s/step\n"
          ]
        },
        {
          "name": "stderr",
          "output_type": "stream",
          "text": [
            "  0%|▍                                                                               | 10/2000 [00:02<09:49,  3.38it/s]"
          ]
        },
        {
          "name": "stdout",
          "output_type": "stream",
          "text": [
            "1/1 [==============================] - 3s 3s/step\n"
          ]
        },
        {
          "name": "stderr",
          "output_type": "stream",
          "text": [
            "  1%|▊                                                                               | 20/2000 [00:05<09:36,  3.44it/s]"
          ]
        },
        {
          "name": "stdout",
          "output_type": "stream",
          "text": [
            "1/1 [==============================] - 3s 3s/step\n"
          ]
        },
        {
          "name": "stderr",
          "output_type": "stream",
          "text": [
            "  2%|█▏                                                                              | 30/2000 [00:08<09:30,  3.45it/s]"
          ]
        },
        {
          "name": "stdout",
          "output_type": "stream",
          "text": [
            "1/1 [==============================] - 3s 3s/step\n"
          ]
        },
        {
          "name": "stderr",
          "output_type": "stream",
          "text": [
            "  2%|█▌                                                                              | 40/2000 [00:11<09:28,  3.45it/s]"
          ]
        },
        {
          "name": "stdout",
          "output_type": "stream",
          "text": [
            "1/1 [==============================] - 3s 3s/step\n"
          ]
        },
        {
          "name": "stderr",
          "output_type": "stream",
          "text": [
            "  2%|██                                                                              | 50/2000 [00:14<09:27,  3.44it/s]"
          ]
        },
        {
          "name": "stdout",
          "output_type": "stream",
          "text": [
            "1/1 [==============================] - 3s 3s/step\n"
          ]
        },
        {
          "name": "stderr",
          "output_type": "stream",
          "text": [
            "  3%|██▍                                                                             | 60/2000 [00:17<09:25,  3.43it/s]"
          ]
        },
        {
          "name": "stdout",
          "output_type": "stream",
          "text": [
            "1/1 [==============================] - 3s 3s/step\n"
          ]
        },
        {
          "name": "stderr",
          "output_type": "stream",
          "text": [
            "  4%|██▊                                                                             | 70/2000 [00:20<09:33,  3.36it/s]"
          ]
        },
        {
          "name": "stdout",
          "output_type": "stream",
          "text": [
            "1/1 [==============================] - 3s 3s/step\n"
          ]
        },
        {
          "name": "stderr",
          "output_type": "stream",
          "text": [
            "  4%|███▏                                                                            | 80/2000 [00:23<09:48,  3.26it/s]"
          ]
        },
        {
          "name": "stdout",
          "output_type": "stream",
          "text": [
            "1/1 [==============================] - 3s 3s/step\n"
          ]
        },
        {
          "name": "stderr",
          "output_type": "stream",
          "text": [
            "  4%|███▌                                                                            | 90/2000 [00:27<09:56,  3.20it/s]"
          ]
        },
        {
          "name": "stdout",
          "output_type": "stream",
          "text": [
            "1/1 [==============================] - 3s 3s/step\n"
          ]
        },
        {
          "name": "stderr",
          "output_type": "stream",
          "text": [
            "  5%|███▉                                                                           | 100/2000 [00:30<10:00,  3.17it/s]"
          ]
        },
        {
          "name": "stdout",
          "output_type": "stream",
          "text": [
            "1/1 [==============================] - 3s 3s/step\n"
          ]
        },
        {
          "name": "stderr",
          "output_type": "stream",
          "text": [
            "  6%|████▎                                                                          | 110/2000 [00:33<10:01,  3.14it/s]"
          ]
        },
        {
          "name": "stdout",
          "output_type": "stream",
          "text": [
            "1/1 [==============================] - 3s 3s/step\n"
          ]
        },
        {
          "name": "stderr",
          "output_type": "stream",
          "text": [
            "  6%|████▋                                                                          | 120/2000 [00:36<10:06,  3.10it/s]"
          ]
        },
        {
          "name": "stdout",
          "output_type": "stream",
          "text": [
            "1/1 [==============================] - 3s 3s/step\n"
          ]
        },
        {
          "name": "stderr",
          "output_type": "stream",
          "text": [
            "  6%|█████▏                                                                         | 130/2000 [00:40<10:10,  3.06it/s]"
          ]
        },
        {
          "name": "stdout",
          "output_type": "stream",
          "text": [
            "1/1 [==============================] - 3s 3s/step\n"
          ]
        },
        {
          "name": "stderr",
          "output_type": "stream",
          "text": [
            "  7%|█████▌                                                                         | 140/2000 [00:43<10:06,  3.07it/s]"
          ]
        },
        {
          "name": "stdout",
          "output_type": "stream",
          "text": [
            "1/1 [==============================] - 3s 3s/step\n"
          ]
        },
        {
          "name": "stderr",
          "output_type": "stream",
          "text": [
            "  8%|█████▉                                                                         | 150/2000 [00:46<10:07,  3.04it/s]"
          ]
        },
        {
          "name": "stdout",
          "output_type": "stream",
          "text": [
            "1/1 [==============================] - 3s 3s/step\n"
          ]
        },
        {
          "name": "stderr",
          "output_type": "stream",
          "text": [
            "  8%|██████▎                                                                        | 160/2000 [00:50<10:04,  3.05it/s]"
          ]
        },
        {
          "name": "stdout",
          "output_type": "stream",
          "text": [
            "1/1 [==============================] - 3s 3s/step\n"
          ]
        },
        {
          "name": "stderr",
          "output_type": "stream",
          "text": [
            "  8%|██████▋                                                                        | 170/2000 [00:53<09:55,  3.07it/s]"
          ]
        },
        {
          "name": "stdout",
          "output_type": "stream",
          "text": [
            "1/1 [==============================] - 3s 3s/step\n"
          ]
        },
        {
          "name": "stderr",
          "output_type": "stream",
          "text": [
            "  9%|███████                                                                        | 180/2000 [00:56<09:53,  3.06it/s]"
          ]
        },
        {
          "name": "stdout",
          "output_type": "stream",
          "text": [
            "1/1 [==============================] - 3s 3s/step\n"
          ]
        },
        {
          "name": "stderr",
          "output_type": "stream",
          "text": [
            " 10%|███████▌                                                                       | 190/2000 [00:59<09:54,  3.04it/s]"
          ]
        },
        {
          "name": "stdout",
          "output_type": "stream",
          "text": [
            "1/1 [==============================] - 3s 3s/step\n"
          ]
        },
        {
          "name": "stderr",
          "output_type": "stream",
          "text": [
            " 10%|███████▉                                                                       | 200/2000 [01:03<09:58,  3.01it/s]"
          ]
        },
        {
          "name": "stdout",
          "output_type": "stream",
          "text": [
            "1/1 [==============================] - 3s 3s/step\n"
          ]
        },
        {
          "name": "stderr",
          "output_type": "stream",
          "text": [
            " 10%|████████▎                                                                      | 210/2000 [01:06<09:57,  2.99it/s]"
          ]
        },
        {
          "name": "stdout",
          "output_type": "stream",
          "text": [
            "1/1 [==============================] - 3s 3s/step\n"
          ]
        },
        {
          "name": "stderr",
          "output_type": "stream",
          "text": [
            " 11%|████████▋                                                                      | 220/2000 [01:10<09:56,  2.99it/s]"
          ]
        },
        {
          "name": "stdout",
          "output_type": "stream",
          "text": [
            "1/1 [==============================] - 3s 3s/step\n"
          ]
        },
        {
          "name": "stderr",
          "output_type": "stream",
          "text": [
            " 12%|█████████                                                                      | 230/2000 [01:13<09:54,  2.98it/s]"
          ]
        },
        {
          "name": "stdout",
          "output_type": "stream",
          "text": [
            "1/1 [==============================] - 3s 3s/step\n"
          ]
        },
        {
          "name": "stderr",
          "output_type": "stream",
          "text": [
            " 12%|█████████▍                                                                     | 240/2000 [01:16<09:50,  2.98it/s]"
          ]
        },
        {
          "name": "stdout",
          "output_type": "stream",
          "text": [
            "1/1 [==============================] - 3s 3s/step\n"
          ]
        },
        {
          "name": "stderr",
          "output_type": "stream",
          "text": [
            " 12%|█████████▉                                                                     | 250/2000 [01:20<09:52,  2.96it/s]"
          ]
        },
        {
          "name": "stdout",
          "output_type": "stream",
          "text": [
            "1/1 [==============================] - 3s 3s/step\n"
          ]
        },
        {
          "name": "stderr",
          "output_type": "stream",
          "text": [
            " 13%|██████████▎                                                                    | 260/2000 [01:23<09:51,  2.94it/s]"
          ]
        },
        {
          "name": "stdout",
          "output_type": "stream",
          "text": [
            "1/1 [==============================] - 4s 4s/step\n"
          ]
        },
        {
          "name": "stderr",
          "output_type": "stream",
          "text": [
            " 14%|██████████▋                                                                    | 270/2000 [01:27<10:14,  2.81it/s]"
          ]
        },
        {
          "name": "stdout",
          "output_type": "stream",
          "text": [
            "1/1 [==============================] - 4s 4s/step\n"
          ]
        },
        {
          "name": "stderr",
          "output_type": "stream",
          "text": [
            " 14%|███████████                                                                    | 280/2000 [01:31<10:15,  2.80it/s]"
          ]
        },
        {
          "name": "stdout",
          "output_type": "stream",
          "text": [
            "1/1 [==============================] - 3s 3s/step\n"
          ]
        },
        {
          "name": "stderr",
          "output_type": "stream",
          "text": [
            " 14%|███████████▍                                                                   | 290/2000 [01:34<10:05,  2.83it/s]"
          ]
        },
        {
          "name": "stdout",
          "output_type": "stream",
          "text": [
            "1/1 [==============================] - 3s 3s/step\n"
          ]
        },
        {
          "name": "stderr",
          "output_type": "stream",
          "text": [
            " 15%|███████████▊                                                                   | 300/2000 [01:38<09:55,  2.85it/s]"
          ]
        },
        {
          "name": "stdout",
          "output_type": "stream",
          "text": [
            "1/1 [==============================] - 3s 3s/step\n"
          ]
        },
        {
          "name": "stderr",
          "output_type": "stream",
          "text": [
            " 16%|████████████▏                                                                  | 310/2000 [01:41<09:54,  2.84it/s]"
          ]
        },
        {
          "name": "stdout",
          "output_type": "stream",
          "text": [
            "1/1 [==============================] - 3s 3s/step\n"
          ]
        },
        {
          "name": "stderr",
          "output_type": "stream",
          "text": [
            " 16%|████████████▋                                                                  | 320/2000 [01:45<09:46,  2.86it/s]"
          ]
        },
        {
          "name": "stdout",
          "output_type": "stream",
          "text": [
            "1/1 [==============================] - 4s 4s/step\n"
          ]
        },
        {
          "name": "stderr",
          "output_type": "stream",
          "text": [
            " 16%|█████████████                                                                  | 330/2000 [01:48<09:47,  2.84it/s]"
          ]
        },
        {
          "name": "stdout",
          "output_type": "stream",
          "text": [
            "1/1 [==============================] - 4s 4s/step\n"
          ]
        },
        {
          "name": "stderr",
          "output_type": "stream",
          "text": [
            " 17%|█████████████▍                                                                 | 340/2000 [01:52<09:52,  2.80it/s]"
          ]
        },
        {
          "name": "stdout",
          "output_type": "stream",
          "text": [
            "1/1 [==============================] - 4s 4s/step\n"
          ]
        },
        {
          "name": "stderr",
          "output_type": "stream",
          "text": [
            " 18%|█████████████▊                                                                 | 350/2000 [01:56<09:52,  2.78it/s]"
          ]
        },
        {
          "name": "stdout",
          "output_type": "stream",
          "text": [
            "1/1 [==============================] - 3s 3s/step\n"
          ]
        },
        {
          "name": "stderr",
          "output_type": "stream",
          "text": [
            " 18%|██████████████▏                                                                | 360/2000 [01:59<09:43,  2.81it/s]"
          ]
        },
        {
          "name": "stdout",
          "output_type": "stream",
          "text": [
            "1/1 [==============================] - 4s 4s/step\n"
          ]
        },
        {
          "name": "stderr",
          "output_type": "stream",
          "text": [
            " 18%|██████████████▌                                                                | 370/2000 [02:03<09:49,  2.76it/s]"
          ]
        },
        {
          "name": "stdout",
          "output_type": "stream",
          "text": [
            "1/1 [==============================] - 4s 4s/step\n"
          ]
        },
        {
          "name": "stderr",
          "output_type": "stream",
          "text": [
            " 19%|███████████████                                                                | 380/2000 [02:06<09:49,  2.75it/s]"
          ]
        },
        {
          "name": "stdout",
          "output_type": "stream",
          "text": [
            "1/1 [==============================] - 4s 4s/step\n"
          ]
        },
        {
          "name": "stderr",
          "output_type": "stream",
          "text": [
            " 20%|███████████████▍                                                               | 390/2000 [02:10<09:59,  2.69it/s]"
          ]
        },
        {
          "name": "stdout",
          "output_type": "stream",
          "text": [
            "1/1 [==============================] - 4s 4s/step\n"
          ]
        },
        {
          "name": "stderr",
          "output_type": "stream",
          "text": [
            " 20%|███████████████▊                                                               | 400/2000 [02:14<10:01,  2.66it/s]"
          ]
        },
        {
          "name": "stdout",
          "output_type": "stream",
          "text": [
            "1/1 [==============================] - 4s 4s/step\n"
          ]
        },
        {
          "name": "stderr",
          "output_type": "stream",
          "text": [
            " 20%|████████████████▏                                                              | 410/2000 [02:18<09:53,  2.68it/s]"
          ]
        },
        {
          "name": "stdout",
          "output_type": "stream",
          "text": [
            "1/1 [==============================] - 4s 4s/step\n"
          ]
        },
        {
          "name": "stderr",
          "output_type": "stream",
          "text": [
            " 21%|████████████████▌                                                              | 420/2000 [02:22<09:48,  2.69it/s]"
          ]
        },
        {
          "name": "stdout",
          "output_type": "stream",
          "text": [
            "1/1 [==============================] - 4s 4s/step\n"
          ]
        },
        {
          "name": "stderr",
          "output_type": "stream",
          "text": [
            " 22%|████████████████▉                                                              | 430/2000 [02:25<09:40,  2.71it/s]"
          ]
        },
        {
          "name": "stdout",
          "output_type": "stream",
          "text": [
            "1/1 [==============================] - 3s 3s/step\n"
          ]
        },
        {
          "name": "stderr",
          "output_type": "stream",
          "text": [
            " 22%|█████████████████▍                                                             | 440/2000 [02:29<09:28,  2.75it/s]"
          ]
        },
        {
          "name": "stdout",
          "output_type": "stream",
          "text": [
            "1/1 [==============================] - 3s 3s/step\n"
          ]
        },
        {
          "name": "stderr",
          "output_type": "stream",
          "text": [
            " 22%|█████████████████▊                                                             | 450/2000 [02:32<09:15,  2.79it/s]"
          ]
        },
        {
          "name": "stdout",
          "output_type": "stream",
          "text": [
            "1/1 [==============================] - 3s 3s/step\n"
          ]
        },
        {
          "name": "stderr",
          "output_type": "stream",
          "text": [
            " 23%|██████████████████▏                                                            | 460/2000 [02:36<09:08,  2.81it/s]"
          ]
        },
        {
          "name": "stdout",
          "output_type": "stream",
          "text": [
            "1/1 [==============================] - 3s 3s/step\n"
          ]
        },
        {
          "name": "stderr",
          "output_type": "stream",
          "text": [
            " 24%|██████████████████▌                                                            | 470/2000 [02:39<09:00,  2.83it/s]"
          ]
        },
        {
          "name": "stdout",
          "output_type": "stream",
          "text": [
            "1/1 [==============================] - 3s 3s/step\n"
          ]
        },
        {
          "name": "stderr",
          "output_type": "stream",
          "text": [
            " 24%|██████████████████▉                                                            | 480/2000 [02:43<08:53,  2.85it/s]"
          ]
        },
        {
          "name": "stdout",
          "output_type": "stream",
          "text": [
            "1/1 [==============================] - 3s 3s/step\n"
          ]
        },
        {
          "name": "stderr",
          "output_type": "stream",
          "text": [
            " 24%|███████████████████▎                                                           | 490/2000 [02:46<08:46,  2.87it/s]"
          ]
        },
        {
          "name": "stdout",
          "output_type": "stream",
          "text": [
            "1/1 [==============================] - 3s 3s/step\n"
          ]
        },
        {
          "name": "stderr",
          "output_type": "stream",
          "text": [
            " 25%|███████████████████▊                                                           | 500/2000 [02:49<08:41,  2.87it/s]"
          ]
        },
        {
          "name": "stdout",
          "output_type": "stream",
          "text": [
            "1/1 [==============================] - 3s 3s/step\n"
          ]
        },
        {
          "name": "stderr",
          "output_type": "stream",
          "text": [
            " 26%|████████████████████▏                                                          | 510/2000 [02:53<08:41,  2.86it/s]"
          ]
        },
        {
          "name": "stdout",
          "output_type": "stream",
          "text": [
            "1/1 [==============================] - 3s 3s/step\n"
          ]
        },
        {
          "name": "stderr",
          "output_type": "stream",
          "text": [
            " 26%|████████████████████▌                                                          | 520/2000 [02:56<08:35,  2.87it/s]"
          ]
        },
        {
          "name": "stdout",
          "output_type": "stream",
          "text": [
            "1/1 [==============================] - 3s 3s/step\n"
          ]
        },
        {
          "name": "stderr",
          "output_type": "stream",
          "text": [
            " 26%|████████████████████▉                                                          | 530/2000 [03:00<08:30,  2.88it/s]"
          ]
        },
        {
          "name": "stdout",
          "output_type": "stream",
          "text": [
            "1/1 [==============================] - 3s 3s/step\n"
          ]
        },
        {
          "name": "stderr",
          "output_type": "stream",
          "text": [
            " 27%|█████████████████████▎                                                         | 540/2000 [03:03<08:29,  2.87it/s]"
          ]
        },
        {
          "name": "stdout",
          "output_type": "stream",
          "text": [
            "1/1 [==============================] - 4s 4s/step\n"
          ]
        },
        {
          "name": "stderr",
          "output_type": "stream",
          "text": [
            " 28%|█████████████████████▋                                                         | 550/2000 [03:07<08:33,  2.83it/s]"
          ]
        },
        {
          "name": "stdout",
          "output_type": "stream",
          "text": [
            "1/1 [==============================] - 4s 4s/step\n"
          ]
        },
        {
          "name": "stderr",
          "output_type": "stream",
          "text": [
            " 28%|██████████████████████                                                         | 560/2000 [03:11<08:42,  2.76it/s]"
          ]
        },
        {
          "name": "stdout",
          "output_type": "stream",
          "text": [
            "1/1 [==============================] - 4s 4s/step\n"
          ]
        },
        {
          "name": "stderr",
          "output_type": "stream",
          "text": [
            " 28%|██████████████████████▌                                                        | 570/2000 [03:15<08:36,  2.77it/s]"
          ]
        },
        {
          "name": "stdout",
          "output_type": "stream",
          "text": [
            "1/1 [==============================] - 4s 4s/step\n"
          ]
        },
        {
          "name": "stderr",
          "output_type": "stream",
          "text": [
            " 29%|██████████████████████▉                                                        | 580/2000 [03:18<08:32,  2.77it/s]"
          ]
        },
        {
          "name": "stdout",
          "output_type": "stream",
          "text": [
            "1/1 [==============================] - 4s 4s/step\n"
          ]
        },
        {
          "name": "stderr",
          "output_type": "stream",
          "text": [
            " 30%|███████████████████████▎                                                       | 590/2000 [03:22<08:30,  2.76it/s]"
          ]
        },
        {
          "name": "stdout",
          "output_type": "stream",
          "text": [
            "1/1 [==============================] - 4s 4s/step\n"
          ]
        },
        {
          "name": "stderr",
          "output_type": "stream",
          "text": [
            " 30%|███████████████████████▋                                                       | 600/2000 [03:26<08:37,  2.70it/s]"
          ]
        },
        {
          "name": "stdout",
          "output_type": "stream",
          "text": [
            "1/1 [==============================] - 4s 4s/step\n"
          ]
        },
        {
          "name": "stderr",
          "output_type": "stream",
          "text": [
            " 30%|████████████████████████                                                       | 610/2000 [03:30<08:44,  2.65it/s]"
          ]
        },
        {
          "name": "stdout",
          "output_type": "stream",
          "text": [
            "1/1 [==============================] - 4s 4s/step\n"
          ]
        },
        {
          "name": "stderr",
          "output_type": "stream",
          "text": [
            " 31%|████████████████████████▍                                                      | 620/2000 [03:33<08:35,  2.68it/s]"
          ]
        },
        {
          "name": "stdout",
          "output_type": "stream",
          "text": [
            "1/1 [==============================] - 4s 4s/step\n"
          ]
        },
        {
          "name": "stderr",
          "output_type": "stream",
          "text": [
            " 32%|████████████████████████▉                                                      | 630/2000 [03:37<08:29,  2.69it/s]"
          ]
        },
        {
          "name": "stdout",
          "output_type": "stream",
          "text": [
            "1/1 [==============================] - 4s 4s/step\n"
          ]
        },
        {
          "name": "stderr",
          "output_type": "stream",
          "text": [
            " 32%|█████████████████████████▎                                                     | 640/2000 [03:41<08:27,  2.68it/s]"
          ]
        },
        {
          "name": "stdout",
          "output_type": "stream",
          "text": [
            "1/1 [==============================] - 4s 4s/step\n"
          ]
        },
        {
          "name": "stderr",
          "output_type": "stream",
          "text": [
            " 32%|█████████████████████████▋                                                     | 650/2000 [03:45<08:37,  2.61it/s]"
          ]
        },
        {
          "name": "stdout",
          "output_type": "stream",
          "text": [
            "1/1 [==============================] - 4s 4s/step\n"
          ]
        },
        {
          "name": "stderr",
          "output_type": "stream",
          "text": [
            " 33%|██████████████████████████                                                     | 660/2000 [03:49<08:43,  2.56it/s]"
          ]
        },
        {
          "name": "stdout",
          "output_type": "stream",
          "text": [
            "1/1 [==============================] - 4s 4s/step\n"
          ]
        },
        {
          "name": "stderr",
          "output_type": "stream",
          "text": [
            " 34%|██████████████████████████▍                                                    | 670/2000 [03:53<08:44,  2.54it/s]"
          ]
        },
        {
          "name": "stdout",
          "output_type": "stream",
          "text": [
            "1/1 [==============================] - 4s 4s/step\n"
          ]
        },
        {
          "name": "stderr",
          "output_type": "stream",
          "text": [
            " 34%|██████████████████████████▊                                                    | 680/2000 [03:57<08:41,  2.53it/s]"
          ]
        },
        {
          "name": "stdout",
          "output_type": "stream",
          "text": [
            "1/1 [==============================] - 3s 3s/step\n"
          ]
        },
        {
          "name": "stderr",
          "output_type": "stream",
          "text": [
            " 34%|███████████████████████████▎                                                   | 690/2000 [04:00<08:20,  2.62it/s]"
          ]
        },
        {
          "name": "stdout",
          "output_type": "stream",
          "text": [
            "1/1 [==============================] - 4s 4s/step\n"
          ]
        },
        {
          "name": "stderr",
          "output_type": "stream",
          "text": [
            " 35%|███████████████████████████▋                                                   | 700/2000 [04:04<08:11,  2.65it/s]"
          ]
        },
        {
          "name": "stdout",
          "output_type": "stream",
          "text": [
            "1/1 [==============================] - 4s 4s/step\n"
          ]
        },
        {
          "name": "stderr",
          "output_type": "stream",
          "text": [
            " 36%|████████████████████████████                                                   | 710/2000 [04:08<08:19,  2.58it/s]"
          ]
        },
        {
          "name": "stdout",
          "output_type": "stream",
          "text": [
            "1/1 [==============================] - 4s 4s/step\n"
          ]
        },
        {
          "name": "stderr",
          "output_type": "stream",
          "text": [
            " 36%|████████████████████████████▍                                                  | 720/2000 [04:12<08:20,  2.55it/s]"
          ]
        },
        {
          "name": "stdout",
          "output_type": "stream",
          "text": [
            "1/1 [==============================] - 4s 4s/step\n"
          ]
        },
        {
          "name": "stderr",
          "output_type": "stream",
          "text": [
            " 36%|████████████████████████████▊                                                  | 730/2000 [04:16<08:13,  2.57it/s]"
          ]
        },
        {
          "name": "stdout",
          "output_type": "stream",
          "text": [
            "1/1 [==============================] - 4s 4s/step\n"
          ]
        },
        {
          "name": "stderr",
          "output_type": "stream",
          "text": [
            " 37%|█████████████████████████████▏                                                 | 740/2000 [04:20<08:09,  2.57it/s]"
          ]
        },
        {
          "name": "stdout",
          "output_type": "stream",
          "text": [
            "1/1 [==============================] - 4s 4s/step\n"
          ]
        },
        {
          "name": "stderr",
          "output_type": "stream",
          "text": [
            " 38%|█████████████████████████████▋                                                 | 750/2000 [04:24<08:03,  2.59it/s]"
          ]
        },
        {
          "name": "stdout",
          "output_type": "stream",
          "text": [
            "1/1 [==============================] - 4s 4s/step\n"
          ]
        },
        {
          "name": "stderr",
          "output_type": "stream",
          "text": [
            " 38%|██████████████████████████████                                                 | 760/2000 [04:27<07:56,  2.60it/s]"
          ]
        },
        {
          "name": "stdout",
          "output_type": "stream",
          "text": [
            "1/1 [==============================] - 4s 4s/step\n"
          ]
        },
        {
          "name": "stderr",
          "output_type": "stream",
          "text": [
            " 38%|██████████████████████████████▍                                                | 770/2000 [04:31<07:51,  2.61it/s]"
          ]
        },
        {
          "name": "stdout",
          "output_type": "stream",
          "text": [
            "1/1 [==============================] - 4s 4s/step\n"
          ]
        },
        {
          "name": "stderr",
          "output_type": "stream",
          "text": [
            " 39%|██████████████████████████████▊                                                | 780/2000 [04:35<07:46,  2.61it/s]"
          ]
        },
        {
          "name": "stdout",
          "output_type": "stream",
          "text": [
            "1/1 [==============================] - 4s 4s/step\n"
          ]
        },
        {
          "name": "stderr",
          "output_type": "stream",
          "text": [
            " 40%|███████████████████████████████▏                                               | 790/2000 [04:39<07:39,  2.63it/s]"
          ]
        },
        {
          "name": "stdout",
          "output_type": "stream",
          "text": [
            "1/1 [==============================] - 4s 4s/step\n"
          ]
        },
        {
          "name": "stderr",
          "output_type": "stream",
          "text": [
            " 40%|███████████████████████████████▌                                               | 800/2000 [04:42<07:29,  2.67it/s]"
          ]
        },
        {
          "name": "stdout",
          "output_type": "stream",
          "text": [
            "1/1 [==============================] - 4s 4s/step\n"
          ]
        },
        {
          "name": "stderr",
          "output_type": "stream",
          "text": [
            " 40%|███████████████████████████████▉                                               | 810/2000 [04:46<07:27,  2.66it/s]"
          ]
        },
        {
          "name": "stdout",
          "output_type": "stream",
          "text": [
            "1/1 [==============================] - 4s 4s/step\n"
          ]
        },
        {
          "name": "stderr",
          "output_type": "stream",
          "text": [
            " 41%|████████████████████████████████▍                                              | 820/2000 [04:50<07:24,  2.65it/s]"
          ]
        },
        {
          "name": "stdout",
          "output_type": "stream",
          "text": [
            "1/1 [==============================] - 4s 4s/step\n"
          ]
        },
        {
          "name": "stderr",
          "output_type": "stream",
          "text": [
            " 42%|████████████████████████████████▊                                              | 830/2000 [04:54<07:18,  2.67it/s]"
          ]
        },
        {
          "name": "stdout",
          "output_type": "stream",
          "text": [
            "1/1 [==============================] - 4s 4s/step\n"
          ]
        },
        {
          "name": "stderr",
          "output_type": "stream",
          "text": [
            " 42%|█████████████████████████████████▏                                             | 840/2000 [04:58<07:21,  2.63it/s]"
          ]
        },
        {
          "name": "stdout",
          "output_type": "stream",
          "text": [
            "1/1 [==============================] - 4s 4s/step\n"
          ]
        },
        {
          "name": "stderr",
          "output_type": "stream",
          "text": [
            " 42%|█████████████████████████████████▌                                             | 850/2000 [05:02<07:28,  2.56it/s]"
          ]
        },
        {
          "name": "stdout",
          "output_type": "stream",
          "text": [
            "1/1 [==============================] - 4s 4s/step\n"
          ]
        },
        {
          "name": "stderr",
          "output_type": "stream",
          "text": [
            " 43%|█████████████████████████████████▉                                             | 860/2000 [05:06<07:23,  2.57it/s]"
          ]
        },
        {
          "name": "stdout",
          "output_type": "stream",
          "text": [
            "1/1 [==============================] - 4s 4s/step\n"
          ]
        },
        {
          "name": "stderr",
          "output_type": "stream",
          "text": [
            " 44%|██████████████████████████████████▎                                            | 870/2000 [05:10<07:20,  2.57it/s]"
          ]
        },
        {
          "name": "stdout",
          "output_type": "stream",
          "text": [
            "1/1 [==============================] - 4s 4s/step\n"
          ]
        },
        {
          "name": "stderr",
          "output_type": "stream",
          "text": [
            " 44%|██████████████████████████████████▊                                            | 880/2000 [05:13<07:15,  2.57it/s]"
          ]
        },
        {
          "name": "stdout",
          "output_type": "stream",
          "text": [
            "1/1 [==============================] - 4s 4s/step\n"
          ]
        },
        {
          "name": "stderr",
          "output_type": "stream",
          "text": [
            " 44%|███████████████████████████████████▏                                           | 890/2000 [05:17<07:11,  2.57it/s]"
          ]
        },
        {
          "name": "stdout",
          "output_type": "stream",
          "text": [
            "1/1 [==============================] - 4s 4s/step\n"
          ]
        },
        {
          "name": "stderr",
          "output_type": "stream",
          "text": [
            " 45%|███████████████████████████████████▌                                           | 900/2000 [05:21<07:07,  2.58it/s]"
          ]
        },
        {
          "name": "stdout",
          "output_type": "stream",
          "text": [
            "1/1 [==============================] - 4s 4s/step\n"
          ]
        },
        {
          "name": "stderr",
          "output_type": "stream",
          "text": [
            " 46%|███████████████████████████████████▉                                           | 910/2000 [05:25<07:02,  2.58it/s]"
          ]
        },
        {
          "name": "stdout",
          "output_type": "stream",
          "text": [
            "1/1 [==============================] - 4s 4s/step\n"
          ]
        },
        {
          "name": "stderr",
          "output_type": "stream",
          "text": [
            " 46%|████████████████████████████████████▎                                          | 920/2000 [05:29<06:58,  2.58it/s]"
          ]
        },
        {
          "name": "stdout",
          "output_type": "stream",
          "text": [
            "1/1 [==============================] - 4s 4s/step\n"
          ]
        },
        {
          "name": "stderr",
          "output_type": "stream",
          "text": [
            " 46%|████████████████████████████████████▋                                          | 930/2000 [05:33<06:49,  2.61it/s]"
          ]
        },
        {
          "name": "stdout",
          "output_type": "stream",
          "text": [
            "1/1 [==============================] - 4s 4s/step\n"
          ]
        },
        {
          "name": "stderr",
          "output_type": "stream",
          "text": [
            " 47%|█████████████████████████████████████▏                                         | 940/2000 [05:37<06:56,  2.55it/s]"
          ]
        },
        {
          "name": "stdout",
          "output_type": "stream",
          "text": [
            "1/1 [==============================] - 4s 4s/step\n"
          ]
        },
        {
          "name": "stderr",
          "output_type": "stream",
          "text": [
            " 48%|█████████████████████████████████████▌                                         | 950/2000 [05:41<06:55,  2.53it/s]"
          ]
        },
        {
          "name": "stdout",
          "output_type": "stream",
          "text": [
            "1/1 [==============================] - 4s 4s/step\n"
          ]
        },
        {
          "name": "stderr",
          "output_type": "stream",
          "text": [
            " 48%|█████████████████████████████████████▉                                         | 960/2000 [05:45<06:59,  2.48it/s]"
          ]
        },
        {
          "name": "stdout",
          "output_type": "stream",
          "text": [
            "1/1 [==============================] - 4s 4s/step\n"
          ]
        },
        {
          "name": "stderr",
          "output_type": "stream",
          "text": [
            " 48%|██████████████████████████████████████▎                                        | 970/2000 [05:49<06:47,  2.53it/s]"
          ]
        },
        {
          "name": "stdout",
          "output_type": "stream",
          "text": [
            "1/1 [==============================] - 4s 4s/step\n"
          ]
        },
        {
          "name": "stderr",
          "output_type": "stream",
          "text": [
            " 49%|██████████████████████████████████████▋                                        | 980/2000 [05:53<06:46,  2.51it/s]"
          ]
        },
        {
          "name": "stdout",
          "output_type": "stream",
          "text": [
            "1/1 [==============================] - 4s 4s/step\n"
          ]
        },
        {
          "name": "stderr",
          "output_type": "stream",
          "text": [
            " 50%|███████████████████████████████████████                                        | 990/2000 [05:57<06:37,  2.54it/s]"
          ]
        },
        {
          "name": "stdout",
          "output_type": "stream",
          "text": [
            "1/1 [==============================] - 4s 4s/step\n"
          ]
        },
        {
          "name": "stderr",
          "output_type": "stream",
          "text": [
            " 50%|███████████████████████████████████████                                       | 1000/2000 [06:01<06:32,  2.55it/s]"
          ]
        },
        {
          "name": "stdout",
          "output_type": "stream",
          "text": [
            "1/1 [==============================] - 4s 4s/step\n"
          ]
        },
        {
          "name": "stderr",
          "output_type": "stream",
          "text": [
            " 50%|███████████████████████████████████████▍                                      | 1010/2000 [06:04<06:24,  2.57it/s]"
          ]
        },
        {
          "name": "stdout",
          "output_type": "stream",
          "text": [
            "1/1 [==============================] - 4s 4s/step\n"
          ]
        },
        {
          "name": "stderr",
          "output_type": "stream",
          "text": [
            " 51%|███████████████████████████████████████▊                                      | 1020/2000 [06:08<06:20,  2.57it/s]"
          ]
        },
        {
          "name": "stdout",
          "output_type": "stream",
          "text": [
            "1/1 [==============================] - 4s 4s/step\n"
          ]
        },
        {
          "name": "stderr",
          "output_type": "stream",
          "text": [
            " 52%|████████████████████████████████████████▏                                     | 1030/2000 [06:12<06:12,  2.60it/s]"
          ]
        },
        {
          "name": "stdout",
          "output_type": "stream",
          "text": [
            "1/1 [==============================] - 4s 4s/step\n"
          ]
        },
        {
          "name": "stderr",
          "output_type": "stream",
          "text": [
            " 52%|████████████████████████████████████████▌                                     | 1040/2000 [06:16<06:03,  2.64it/s]"
          ]
        },
        {
          "name": "stdout",
          "output_type": "stream",
          "text": [
            "1/1 [==============================] - 4s 4s/step\n"
          ]
        },
        {
          "name": "stderr",
          "output_type": "stream",
          "text": [
            " 52%|████████████████████████████████████████▉                                     | 1050/2000 [06:19<05:53,  2.69it/s]"
          ]
        },
        {
          "name": "stdout",
          "output_type": "stream",
          "text": [
            "1/1 [==============================] - 4s 4s/step\n"
          ]
        },
        {
          "name": "stderr",
          "output_type": "stream",
          "text": [
            " 53%|█████████████████████████████████████████▎                                    | 1060/2000 [06:23<05:47,  2.71it/s]"
          ]
        },
        {
          "name": "stdout",
          "output_type": "stream",
          "text": [
            "1/1 [==============================] - 4s 4s/step\n"
          ]
        },
        {
          "name": "stderr",
          "output_type": "stream",
          "text": [
            " 54%|█████████████████████████████████████████▋                                    | 1070/2000 [06:27<05:43,  2.71it/s]"
          ]
        },
        {
          "name": "stdout",
          "output_type": "stream",
          "text": [
            "1/1 [==============================] - 4s 4s/step\n"
          ]
        },
        {
          "name": "stderr",
          "output_type": "stream",
          "text": [
            " 54%|██████████████████████████████████████████                                    | 1080/2000 [06:30<05:38,  2.72it/s]"
          ]
        },
        {
          "name": "stdout",
          "output_type": "stream",
          "text": [
            "1/1 [==============================] - 4s 4s/step\n"
          ]
        },
        {
          "name": "stderr",
          "output_type": "stream",
          "text": [
            " 55%|██████████████████████████████████████████▌                                   | 1090/2000 [06:34<05:35,  2.71it/s]"
          ]
        },
        {
          "name": "stdout",
          "output_type": "stream",
          "text": [
            "1/1 [==============================] - 4s 4s/step\n"
          ]
        },
        {
          "name": "stderr",
          "output_type": "stream",
          "text": [
            " 55%|██████████████████████████████████████████▉                                   | 1100/2000 [06:38<05:32,  2.71it/s]"
          ]
        },
        {
          "name": "stdout",
          "output_type": "stream",
          "text": [
            "1/1 [==============================] - 4s 4s/step\n"
          ]
        },
        {
          "name": "stderr",
          "output_type": "stream",
          "text": [
            " 56%|███████████████████████████████████████████▎                                  | 1110/2000 [06:41<05:33,  2.67it/s]"
          ]
        },
        {
          "name": "stdout",
          "output_type": "stream",
          "text": [
            "1/1 [==============================] - 4s 4s/step\n"
          ]
        },
        {
          "name": "stderr",
          "output_type": "stream",
          "text": [
            " 56%|███████████████████████████████████████████▋                                  | 1120/2000 [06:45<05:29,  2.67it/s]"
          ]
        },
        {
          "name": "stdout",
          "output_type": "stream",
          "text": [
            "1/1 [==============================] - 4s 4s/step\n"
          ]
        },
        {
          "name": "stderr",
          "output_type": "stream",
          "text": [
            " 56%|████████████████████████████████████████████                                  | 1130/2000 [06:49<05:22,  2.70it/s]"
          ]
        },
        {
          "name": "stdout",
          "output_type": "stream",
          "text": [
            "1/1 [==============================] - 4s 4s/step\n"
          ]
        },
        {
          "name": "stderr",
          "output_type": "stream",
          "text": [
            " 57%|████████████████████████████████████████████▍                                 | 1140/2000 [06:53<05:19,  2.69it/s]"
          ]
        },
        {
          "name": "stdout",
          "output_type": "stream",
          "text": [
            "1/1 [==============================] - 4s 4s/step\n"
          ]
        },
        {
          "name": "stderr",
          "output_type": "stream",
          "text": [
            " 57%|████████████████████████████████████████████▊                                 | 1150/2000 [06:56<05:14,  2.70it/s]"
          ]
        },
        {
          "name": "stdout",
          "output_type": "stream",
          "text": [
            "1/1 [==============================] - 4s 4s/step\n"
          ]
        },
        {
          "name": "stderr",
          "output_type": "stream",
          "text": [
            " 58%|█████████████████████████████████████████████▏                                | 1160/2000 [07:00<05:11,  2.70it/s]"
          ]
        },
        {
          "name": "stdout",
          "output_type": "stream",
          "text": [
            "1/1 [==============================] - 4s 4s/step\n"
          ]
        },
        {
          "name": "stderr",
          "output_type": "stream",
          "text": [
            " 58%|█████████████████████████████████████████████▋                                | 1170/2000 [07:04<05:08,  2.69it/s]"
          ]
        },
        {
          "name": "stdout",
          "output_type": "stream",
          "text": [
            "1/1 [==============================] - 4s 4s/step\n"
          ]
        },
        {
          "name": "stderr",
          "output_type": "stream",
          "text": [
            " 59%|██████████████████████████████████████████████                                | 1180/2000 [07:07<05:05,  2.69it/s]"
          ]
        },
        {
          "name": "stdout",
          "output_type": "stream",
          "text": [
            "1/1 [==============================] - 4s 4s/step\n"
          ]
        },
        {
          "name": "stderr",
          "output_type": "stream",
          "text": [
            " 60%|██████████████████████████████████████████████▍                               | 1190/2000 [07:11<05:03,  2.67it/s]"
          ]
        },
        {
          "name": "stdout",
          "output_type": "stream",
          "text": [
            "1/1 [==============================] - 4s 4s/step\n"
          ]
        },
        {
          "name": "stderr",
          "output_type": "stream",
          "text": [
            " 60%|██████████████████████████████████████████████▊                               | 1200/2000 [07:15<05:01,  2.65it/s]"
          ]
        },
        {
          "name": "stdout",
          "output_type": "stream",
          "text": [
            "1/1 [==============================] - 4s 4s/step\n"
          ]
        },
        {
          "name": "stderr",
          "output_type": "stream",
          "text": [
            " 60%|███████████████████████████████████████████████▏                              | 1210/2000 [07:19<04:55,  2.68it/s]"
          ]
        },
        {
          "name": "stdout",
          "output_type": "stream",
          "text": [
            "1/1 [==============================] - 4s 4s/step\n"
          ]
        },
        {
          "name": "stderr",
          "output_type": "stream",
          "text": [
            " 61%|███████████████████████████████████████████████▌                              | 1220/2000 [07:23<04:53,  2.66it/s]"
          ]
        },
        {
          "name": "stdout",
          "output_type": "stream",
          "text": [
            "1/1 [==============================] - 4s 4s/step\n"
          ]
        },
        {
          "name": "stderr",
          "output_type": "stream",
          "text": [
            " 62%|███████████████████████████████████████████████▉                              | 1230/2000 [07:26<04:49,  2.66it/s]"
          ]
        },
        {
          "name": "stdout",
          "output_type": "stream",
          "text": [
            "1/1 [==============================] - 4s 4s/step\n"
          ]
        },
        {
          "name": "stderr",
          "output_type": "stream",
          "text": [
            " 62%|████████████████████████████████████████████████▎                             | 1240/2000 [07:30<04:47,  2.64it/s]"
          ]
        },
        {
          "name": "stdout",
          "output_type": "stream",
          "text": [
            "1/1 [==============================] - 4s 4s/step\n"
          ]
        },
        {
          "name": "stderr",
          "output_type": "stream",
          "text": [
            " 62%|████████████████████████████████████████████████▊                             | 1250/2000 [07:34<04:44,  2.64it/s]"
          ]
        },
        {
          "name": "stdout",
          "output_type": "stream",
          "text": [
            "1/1 [==============================] - 4s 4s/step\n"
          ]
        },
        {
          "name": "stderr",
          "output_type": "stream",
          "text": [
            " 63%|█████████████████████████████████████████████████▏                            | 1260/2000 [07:38<04:46,  2.58it/s]"
          ]
        },
        {
          "name": "stdout",
          "output_type": "stream",
          "text": [
            "1/1 [==============================] - 4s 4s/step\n"
          ]
        },
        {
          "name": "stderr",
          "output_type": "stream",
          "text": [
            " 64%|█████████████████████████████████████████████████▌                            | 1270/2000 [07:42<04:43,  2.58it/s]"
          ]
        },
        {
          "name": "stdout",
          "output_type": "stream",
          "text": [
            "1/1 [==============================] - 4s 4s/step\n"
          ]
        },
        {
          "name": "stderr",
          "output_type": "stream",
          "text": [
            " 64%|█████████████████████████████████████████████████▉                            | 1280/2000 [07:46<04:36,  2.60it/s]"
          ]
        },
        {
          "name": "stdout",
          "output_type": "stream",
          "text": [
            "1/1 [==============================] - 4s 4s/step\n"
          ]
        },
        {
          "name": "stderr",
          "output_type": "stream",
          "text": [
            " 64%|██████████████████████████████████████████████████▎                           | 1290/2000 [07:50<04:32,  2.60it/s]"
          ]
        },
        {
          "name": "stdout",
          "output_type": "stream",
          "text": [
            "1/1 [==============================] - 4s 4s/step\n"
          ]
        },
        {
          "name": "stderr",
          "output_type": "stream",
          "text": [
            " 65%|██████████████████████████████████████████████████▋                           | 1300/2000 [07:53<04:26,  2.63it/s]"
          ]
        },
        {
          "name": "stdout",
          "output_type": "stream",
          "text": [
            "1/1 [==============================] - 4s 4s/step\n"
          ]
        },
        {
          "name": "stderr",
          "output_type": "stream",
          "text": [
            " 66%|███████████████████████████████████████████████████                           | 1310/2000 [07:57<04:26,  2.59it/s]"
          ]
        },
        {
          "name": "stdout",
          "output_type": "stream",
          "text": [
            "1/1 [==============================] - 4s 4s/step\n"
          ]
        },
        {
          "name": "stderr",
          "output_type": "stream",
          "text": [
            " 66%|███████████████████████████████████████████████████▍                          | 1320/2000 [08:01<04:25,  2.56it/s]"
          ]
        },
        {
          "name": "stdout",
          "output_type": "stream",
          "text": [
            "1/1 [==============================] - 4s 4s/step\n"
          ]
        },
        {
          "name": "stderr",
          "output_type": "stream",
          "text": [
            " 66%|███████████████████████████████████████████████████▊                          | 1330/2000 [08:05<04:21,  2.56it/s]"
          ]
        },
        {
          "name": "stdout",
          "output_type": "stream",
          "text": [
            "1/1 [==============================] - 4s 4s/step\n"
          ]
        },
        {
          "name": "stderr",
          "output_type": "stream",
          "text": [
            " 67%|████████████████████████████████████████████████████▎                         | 1340/2000 [08:09<04:17,  2.57it/s]"
          ]
        },
        {
          "name": "stdout",
          "output_type": "stream",
          "text": [
            "1/1 [==============================] - 4s 4s/step\n"
          ]
        },
        {
          "name": "stderr",
          "output_type": "stream",
          "text": [
            " 68%|████████████████████████████████████████████████████▋                         | 1350/2000 [08:13<04:10,  2.60it/s]"
          ]
        },
        {
          "name": "stdout",
          "output_type": "stream",
          "text": [
            "1/1 [==============================] - 4s 4s/step\n"
          ]
        },
        {
          "name": "stderr",
          "output_type": "stream",
          "text": [
            " 68%|█████████████████████████████████████████████████████                         | 1360/2000 [08:17<04:07,  2.59it/s]"
          ]
        },
        {
          "name": "stdout",
          "output_type": "stream",
          "text": [
            "1/1 [==============================] - 4s 4s/step\n"
          ]
        },
        {
          "name": "stderr",
          "output_type": "stream",
          "text": [
            " 68%|█████████████████████████████████████████████████████▍                        | 1370/2000 [08:20<04:03,  2.59it/s]"
          ]
        },
        {
          "name": "stdout",
          "output_type": "stream",
          "text": [
            "1/1 [==============================] - 4s 4s/step\n"
          ]
        },
        {
          "name": "stderr",
          "output_type": "stream",
          "text": [
            " 69%|█████████████████████████████████████████████████████▊                        | 1380/2000 [08:24<03:59,  2.59it/s]"
          ]
        },
        {
          "name": "stdout",
          "output_type": "stream",
          "text": [
            "1/1 [==============================] - 4s 4s/step\n"
          ]
        },
        {
          "name": "stderr",
          "output_type": "stream",
          "text": [
            " 70%|██████████████████████████████████████████████████████▏                       | 1390/2000 [08:28<03:53,  2.61it/s]"
          ]
        },
        {
          "name": "stdout",
          "output_type": "stream",
          "text": [
            "1/1 [==============================] - 4s 4s/step\n"
          ]
        },
        {
          "name": "stderr",
          "output_type": "stream",
          "text": [
            " 70%|██████████████████████████████████████████████████████▌                       | 1400/2000 [08:32<03:50,  2.61it/s]"
          ]
        },
        {
          "name": "stdout",
          "output_type": "stream",
          "text": [
            "1/1 [==============================] - 4s 4s/step\n"
          ]
        },
        {
          "name": "stderr",
          "output_type": "stream",
          "text": [
            " 70%|██████████████████████████████████████████████████████▉                       | 1410/2000 [08:36<03:43,  2.64it/s]"
          ]
        },
        {
          "name": "stdout",
          "output_type": "stream",
          "text": [
            "1/1 [==============================] - 4s 4s/step\n"
          ]
        },
        {
          "name": "stderr",
          "output_type": "stream",
          "text": [
            " 71%|███████████████████████████████████████████████████████▍                      | 1420/2000 [08:39<03:39,  2.65it/s]"
          ]
        },
        {
          "name": "stdout",
          "output_type": "stream",
          "text": [
            "1/1 [==============================] - 4s 4s/step\n"
          ]
        },
        {
          "name": "stderr",
          "output_type": "stream",
          "text": [
            " 72%|███████████████████████████████████████████████████████▊                      | 1430/2000 [08:43<03:37,  2.62it/s]"
          ]
        },
        {
          "name": "stdout",
          "output_type": "stream",
          "text": [
            "1/1 [==============================] - 4s 4s/step\n"
          ]
        },
        {
          "name": "stderr",
          "output_type": "stream",
          "text": [
            " 72%|████████████████████████████████████████████████████████▏                     | 1440/2000 [08:47<03:35,  2.60it/s]"
          ]
        },
        {
          "name": "stdout",
          "output_type": "stream",
          "text": [
            "1/1 [==============================] - 4s 4s/step\n"
          ]
        },
        {
          "name": "stderr",
          "output_type": "stream",
          "text": [
            " 72%|████████████████████████████████████████████████████████▌                     | 1450/2000 [08:51<03:29,  2.62it/s]"
          ]
        },
        {
          "name": "stdout",
          "output_type": "stream",
          "text": [
            "1/1 [==============================] - 4s 4s/step\n"
          ]
        },
        {
          "name": "stderr",
          "output_type": "stream",
          "text": [
            " 73%|████████████████████████████████████████████████████████▉                     | 1460/2000 [08:55<03:26,  2.62it/s]"
          ]
        },
        {
          "name": "stdout",
          "output_type": "stream",
          "text": [
            "1/1 [==============================] - 4s 4s/step\n"
          ]
        },
        {
          "name": "stderr",
          "output_type": "stream",
          "text": [
            " 74%|█████████████████████████████████████████████████████████▎                    | 1470/2000 [08:59<03:21,  2.63it/s]"
          ]
        },
        {
          "name": "stdout",
          "output_type": "stream",
          "text": [
            "1/1 [==============================] - 4s 4s/step\n"
          ]
        },
        {
          "name": "stderr",
          "output_type": "stream",
          "text": [
            " 74%|█████████████████████████████████████████████████████████▋                    | 1480/2000 [09:02<03:17,  2.64it/s]"
          ]
        },
        {
          "name": "stdout",
          "output_type": "stream",
          "text": [
            "1/1 [==============================] - 4s 4s/step\n"
          ]
        },
        {
          "name": "stderr",
          "output_type": "stream",
          "text": [
            " 74%|██████████████████████████████████████████████████████████                    | 1490/2000 [09:06<03:14,  2.63it/s]"
          ]
        },
        {
          "name": "stdout",
          "output_type": "stream",
          "text": [
            "1/1 [==============================] - 4s 4s/step\n"
          ]
        },
        {
          "name": "stderr",
          "output_type": "stream",
          "text": [
            " 75%|██████████████████████████████████████████████████████████▌                   | 1500/2000 [09:10<03:09,  2.64it/s]"
          ]
        },
        {
          "name": "stdout",
          "output_type": "stream",
          "text": [
            "1/1 [==============================] - 4s 4s/step\n"
          ]
        },
        {
          "name": "stderr",
          "output_type": "stream",
          "text": [
            " 76%|██████████████████████████████████████████████████████████▉                   | 1510/2000 [09:14<03:03,  2.67it/s]"
          ]
        },
        {
          "name": "stdout",
          "output_type": "stream",
          "text": [
            "1/1 [==============================] - 4s 4s/step\n"
          ]
        },
        {
          "name": "stderr",
          "output_type": "stream",
          "text": [
            " 76%|███████████████████████████████████████████████████████████▎                  | 1520/2000 [09:17<02:59,  2.68it/s]"
          ]
        },
        {
          "name": "stdout",
          "output_type": "stream",
          "text": [
            "1/1 [==============================] - 4s 4s/step\n"
          ]
        },
        {
          "name": "stderr",
          "output_type": "stream",
          "text": [
            " 76%|███████████████████████████████████████████████████████████▋                  | 1530/2000 [09:21<02:55,  2.68it/s]"
          ]
        },
        {
          "name": "stdout",
          "output_type": "stream",
          "text": [
            "1/1 [==============================] - 4s 4s/step\n"
          ]
        },
        {
          "name": "stderr",
          "output_type": "stream",
          "text": [
            " 77%|████████████████████████████████████████████████████████████                  | 1540/2000 [09:25<02:55,  2.63it/s]"
          ]
        },
        {
          "name": "stdout",
          "output_type": "stream",
          "text": [
            "1/1 [==============================] - 4s 4s/step\n"
          ]
        },
        {
          "name": "stderr",
          "output_type": "stream",
          "text": [
            " 78%|████████████████████████████████████████████████████████████▍                 | 1550/2000 [09:29<02:49,  2.66it/s]"
          ]
        },
        {
          "name": "stdout",
          "output_type": "stream",
          "text": [
            "1/1 [==============================] - 4s 4s/step\n"
          ]
        },
        {
          "name": "stderr",
          "output_type": "stream",
          "text": [
            " 78%|████████████████████████████████████████████████████████████▊                 | 1560/2000 [09:32<02:46,  2.64it/s]"
          ]
        },
        {
          "name": "stdout",
          "output_type": "stream",
          "text": [
            "1/1 [==============================] - 4s 4s/step\n"
          ]
        },
        {
          "name": "stderr",
          "output_type": "stream",
          "text": [
            " 78%|█████████████████████████████████████████████████████████████▏                | 1570/2000 [09:36<02:44,  2.61it/s]"
          ]
        },
        {
          "name": "stdout",
          "output_type": "stream",
          "text": [
            "1/1 [==============================] - 4s 4s/step\n"
          ]
        },
        {
          "name": "stderr",
          "output_type": "stream",
          "text": [
            " 79%|█████████████████████████████████████████████████████████████▌                | 1580/2000 [09:41<02:45,  2.53it/s]"
          ]
        },
        {
          "name": "stdout",
          "output_type": "stream",
          "text": [
            "1/1 [==============================] - 4s 4s/step\n"
          ]
        },
        {
          "name": "stderr",
          "output_type": "stream",
          "text": [
            " 80%|██████████████████████████████████████████████████████████████                | 1590/2000 [09:45<02:46,  2.47it/s]"
          ]
        },
        {
          "name": "stdout",
          "output_type": "stream",
          "text": [
            "1/1 [==============================] - 4s 4s/step\n"
          ]
        },
        {
          "name": "stderr",
          "output_type": "stream",
          "text": [
            " 80%|██████████████████████████████████████████████████████████████▍               | 1600/2000 [09:49<02:45,  2.42it/s]"
          ]
        },
        {
          "name": "stdout",
          "output_type": "stream",
          "text": [
            "1/1 [==============================] - 4s 4s/step\n"
          ]
        },
        {
          "name": "stderr",
          "output_type": "stream",
          "text": [
            " 80%|██████████████████████████████████████████████████████████████▊               | 1610/2000 [09:53<02:40,  2.44it/s]"
          ]
        },
        {
          "name": "stdout",
          "output_type": "stream",
          "text": [
            "1/1 [==============================] - 4s 4s/step\n"
          ]
        },
        {
          "name": "stderr",
          "output_type": "stream",
          "text": [
            " 81%|███████████████████████████████████████████████████████████████▏              | 1620/2000 [09:57<02:35,  2.44it/s]"
          ]
        },
        {
          "name": "stdout",
          "output_type": "stream",
          "text": [
            "1/1 [==============================] - 4s 4s/step\n"
          ]
        },
        {
          "name": "stderr",
          "output_type": "stream",
          "text": [
            " 82%|███████████████████████████████████████████████████████████████▌              | 1630/2000 [10:02<02:32,  2.42it/s]"
          ]
        },
        {
          "name": "stdout",
          "output_type": "stream",
          "text": [
            "1/1 [==============================] - 4s 4s/step\n"
          ]
        },
        {
          "name": "stderr",
          "output_type": "stream",
          "text": [
            " 82%|███████████████████████████████████████████████████████████████▉              | 1640/2000 [10:06<02:28,  2.42it/s]"
          ]
        },
        {
          "name": "stdout",
          "output_type": "stream",
          "text": [
            "1/1 [==============================] - 4s 4s/step\n"
          ]
        },
        {
          "name": "stderr",
          "output_type": "stream",
          "text": [
            " 82%|████████████████████████████████████████████████████████████████▎             | 1650/2000 [10:10<02:26,  2.40it/s]"
          ]
        },
        {
          "name": "stdout",
          "output_type": "stream",
          "text": [
            "1/1 [==============================] - 4s 4s/step\n"
          ]
        },
        {
          "name": "stderr",
          "output_type": "stream",
          "text": [
            " 83%|████████████████████████████████████████████████████████████████▋             | 1660/2000 [10:14<02:24,  2.35it/s]"
          ]
        },
        {
          "name": "stdout",
          "output_type": "stream",
          "text": [
            "1/1 [==============================] - 4s 4s/step\n"
          ]
        },
        {
          "name": "stderr",
          "output_type": "stream",
          "text": [
            " 84%|█████████████████████████████████████████████████████████████████▏            | 1670/2000 [10:19<02:18,  2.38it/s]"
          ]
        },
        {
          "name": "stdout",
          "output_type": "stream",
          "text": [
            "1/1 [==============================] - 4s 4s/step\n"
          ]
        },
        {
          "name": "stderr",
          "output_type": "stream",
          "text": [
            " 84%|█████████████████████████████████████████████████████████████████▌            | 1680/2000 [10:22<02:11,  2.43it/s]"
          ]
        },
        {
          "name": "stdout",
          "output_type": "stream",
          "text": [
            "1/1 [==============================] - 4s 4s/step\n"
          ]
        },
        {
          "name": "stderr",
          "output_type": "stream",
          "text": [
            " 84%|█████████████████████████████████████████████████████████████████▉            | 1690/2000 [10:26<02:04,  2.48it/s]"
          ]
        },
        {
          "name": "stdout",
          "output_type": "stream",
          "text": [
            "1/1 [==============================] - 4s 4s/step\n"
          ]
        },
        {
          "name": "stderr",
          "output_type": "stream",
          "text": [
            " 85%|██████████████████████████████████████████████████████████████████▎           | 1700/2000 [10:30<02:00,  2.49it/s]"
          ]
        },
        {
          "name": "stdout",
          "output_type": "stream",
          "text": [
            "1/1 [==============================] - 4s 4s/step\n"
          ]
        },
        {
          "name": "stderr",
          "output_type": "stream",
          "text": [
            " 86%|██████████████████████████████████████████████████████████████████▋           | 1710/2000 [10:34<01:54,  2.53it/s]"
          ]
        },
        {
          "name": "stdout",
          "output_type": "stream",
          "text": [
            "1/1 [==============================] - 4s 4s/step\n"
          ]
        },
        {
          "name": "stderr",
          "output_type": "stream",
          "text": [
            " 86%|███████████████████████████████████████████████████████████████████           | 1720/2000 [10:38<01:51,  2.52it/s]"
          ]
        },
        {
          "name": "stdout",
          "output_type": "stream",
          "text": [
            "1/1 [==============================] - 4s 4s/step\n"
          ]
        },
        {
          "name": "stderr",
          "output_type": "stream",
          "text": [
            " 86%|███████████████████████████████████████████████████████████████████▍          | 1730/2000 [10:42<01:47,  2.52it/s]"
          ]
        },
        {
          "name": "stdout",
          "output_type": "stream",
          "text": [
            "1/1 [==============================] - 4s 4s/step\n"
          ]
        },
        {
          "name": "stderr",
          "output_type": "stream",
          "text": [
            " 87%|███████████████████████████████████████████████████████████████████▊          | 1740/2000 [10:46<01:41,  2.55it/s]"
          ]
        },
        {
          "name": "stdout",
          "output_type": "stream",
          "text": [
            "1/1 [==============================] - 4s 4s/step\n"
          ]
        },
        {
          "name": "stderr",
          "output_type": "stream",
          "text": [
            " 88%|████████████████████████████████████████████████████████████████████▎         | 1750/2000 [10:50<01:37,  2.57it/s]"
          ]
        },
        {
          "name": "stdout",
          "output_type": "stream",
          "text": [
            "1/1 [==============================] - 4s 4s/step\n"
          ]
        },
        {
          "name": "stderr",
          "output_type": "stream",
          "text": [
            " 88%|████████████████████████████████████████████████████████████████████▋         | 1760/2000 [10:53<01:32,  2.59it/s]"
          ]
        },
        {
          "name": "stdout",
          "output_type": "stream",
          "text": [
            "1/1 [==============================] - 4s 4s/step\n"
          ]
        },
        {
          "name": "stderr",
          "output_type": "stream",
          "text": [
            " 88%|█████████████████████████████████████████████████████████████████████         | 1770/2000 [10:57<01:28,  2.59it/s]"
          ]
        },
        {
          "name": "stdout",
          "output_type": "stream",
          "text": [
            "1/1 [==============================] - 4s 4s/step\n"
          ]
        },
        {
          "name": "stderr",
          "output_type": "stream",
          "text": [
            " 89%|█████████████████████████████████████████████████████████████████████▍        | 1780/2000 [11:01<01:25,  2.57it/s]"
          ]
        },
        {
          "name": "stdout",
          "output_type": "stream",
          "text": [
            "1/1 [==============================] - 4s 4s/step\n"
          ]
        },
        {
          "name": "stderr",
          "output_type": "stream",
          "text": [
            " 90%|█████████████████████████████████████████████████████████████████████▊        | 1790/2000 [11:05<01:21,  2.58it/s]"
          ]
        },
        {
          "name": "stdout",
          "output_type": "stream",
          "text": [
            "1/1 [==============================] - 4s 4s/step\n"
          ]
        },
        {
          "name": "stderr",
          "output_type": "stream",
          "text": [
            " 90%|██████████████████████████████████████████████████████████████████████▏       | 1800/2000 [11:09<01:16,  2.60it/s]"
          ]
        },
        {
          "name": "stdout",
          "output_type": "stream",
          "text": [
            "1/1 [==============================] - 4s 4s/step\n"
          ]
        },
        {
          "name": "stderr",
          "output_type": "stream",
          "text": [
            " 90%|██████████████████████████████████████████████████████████████████████▌       | 1810/2000 [11:13<01:12,  2.61it/s]"
          ]
        },
        {
          "name": "stdout",
          "output_type": "stream",
          "text": [
            "1/1 [==============================] - 4s 4s/step\n"
          ]
        },
        {
          "name": "stderr",
          "output_type": "stream",
          "text": [
            " 91%|██████████████████████████████████████████████████████████████████████▉       | 1820/2000 [11:17<01:09,  2.59it/s]"
          ]
        },
        {
          "name": "stdout",
          "output_type": "stream",
          "text": [
            "1/1 [==============================] - 4s 4s/step\n"
          ]
        },
        {
          "name": "stderr",
          "output_type": "stream",
          "text": [
            " 92%|███████████████████████████████████████████████████████████████████████▎      | 1830/2000 [11:20<01:05,  2.61it/s]"
          ]
        },
        {
          "name": "stdout",
          "output_type": "stream",
          "text": [
            "1/1 [==============================] - 4s 4s/step\n"
          ]
        },
        {
          "name": "stderr",
          "output_type": "stream",
          "text": [
            " 92%|███████████████████████████████████████████████████████████████████████▊      | 1840/2000 [11:24<01:01,  2.62it/s]"
          ]
        },
        {
          "name": "stdout",
          "output_type": "stream",
          "text": [
            "1/1 [==============================] - 4s 4s/step\n"
          ]
        },
        {
          "name": "stderr",
          "output_type": "stream",
          "text": [
            " 92%|████████████████████████████████████████████████████████████████████████▏     | 1850/2000 [11:28<00:56,  2.65it/s]"
          ]
        },
        {
          "name": "stdout",
          "output_type": "stream",
          "text": [
            "1/1 [==============================] - 4s 4s/step\n"
          ]
        },
        {
          "name": "stderr",
          "output_type": "stream",
          "text": [
            " 93%|████████████████████████████████████████████████████████████████████████▌     | 1860/2000 [11:32<00:52,  2.65it/s]"
          ]
        },
        {
          "name": "stdout",
          "output_type": "stream",
          "text": [
            "1/1 [==============================] - 4s 4s/step\n"
          ]
        },
        {
          "name": "stderr",
          "output_type": "stream",
          "text": [
            " 94%|████████████████████████████████████████████████████████████████████████▉     | 1870/2000 [11:35<00:49,  2.62it/s]"
          ]
        },
        {
          "name": "stdout",
          "output_type": "stream",
          "text": [
            "1/1 [==============================] - 4s 4s/step\n"
          ]
        },
        {
          "name": "stderr",
          "output_type": "stream",
          "text": [
            " 94%|█████████████████████████████████████████████████████████████████████████▎    | 1880/2000 [11:39<00:46,  2.60it/s]"
          ]
        },
        {
          "name": "stdout",
          "output_type": "stream",
          "text": [
            "1/1 [==============================] - 4s 4s/step\n"
          ]
        },
        {
          "name": "stderr",
          "output_type": "stream",
          "text": [
            " 94%|█████████████████████████████████████████████████████████████████████████▋    | 1890/2000 [11:44<00:43,  2.50it/s]"
          ]
        },
        {
          "name": "stdout",
          "output_type": "stream",
          "text": [
            "1/1 [==============================] - 4s 4s/step\n"
          ]
        },
        {
          "name": "stderr",
          "output_type": "stream",
          "text": [
            " 95%|██████████████████████████████████████████████████████████████████████████    | 1900/2000 [11:48<00:39,  2.52it/s]"
          ]
        },
        {
          "name": "stdout",
          "output_type": "stream",
          "text": [
            "1/1 [==============================] - 4s 4s/step\n"
          ]
        },
        {
          "name": "stderr",
          "output_type": "stream",
          "text": [
            " 96%|██████████████████████████████████████████████████████████████████████████▍   | 1910/2000 [11:51<00:35,  2.56it/s]"
          ]
        },
        {
          "name": "stdout",
          "output_type": "stream",
          "text": [
            "1/1 [==============================] - 4s 4s/step\n"
          ]
        },
        {
          "name": "stderr",
          "output_type": "stream",
          "text": [
            " 96%|██████████████████████████████████████████████████████████████████████████▉   | 1920/2000 [11:55<00:31,  2.57it/s]"
          ]
        },
        {
          "name": "stdout",
          "output_type": "stream",
          "text": [
            "1/1 [==============================] - 4s 4s/step\n"
          ]
        },
        {
          "name": "stderr",
          "output_type": "stream",
          "text": [
            " 96%|███████████████████████████████████████████████████████████████████████████▎  | 1930/2000 [11:59<00:27,  2.58it/s]"
          ]
        },
        {
          "name": "stdout",
          "output_type": "stream",
          "text": [
            "1/1 [==============================] - 4s 4s/step\n"
          ]
        },
        {
          "name": "stderr",
          "output_type": "stream",
          "text": [
            " 97%|███████████████████████████████████████████████████████████████████████████▋  | 1940/2000 [12:03<00:23,  2.60it/s]"
          ]
        },
        {
          "name": "stdout",
          "output_type": "stream",
          "text": [
            "1/1 [==============================] - 4s 4s/step\n"
          ]
        },
        {
          "name": "stderr",
          "output_type": "stream",
          "text": [
            " 98%|████████████████████████████████████████████████████████████████████████████  | 1950/2000 [12:07<00:19,  2.61it/s]"
          ]
        },
        {
          "name": "stdout",
          "output_type": "stream",
          "text": [
            "1/1 [==============================] - 4s 4s/step\n"
          ]
        },
        {
          "name": "stderr",
          "output_type": "stream",
          "text": [
            " 98%|████████████████████████████████████████████████████████████████████████████▍ | 1960/2000 [12:11<00:15,  2.61it/s]"
          ]
        },
        {
          "name": "stdout",
          "output_type": "stream",
          "text": [
            "1/1 [==============================] - 4s 4s/step\n"
          ]
        },
        {
          "name": "stderr",
          "output_type": "stream",
          "text": [
            " 98%|████████████████████████████████████████████████████████████████████████████▊ | 1970/2000 [12:14<00:11,  2.60it/s]"
          ]
        },
        {
          "name": "stdout",
          "output_type": "stream",
          "text": [
            "1/1 [==============================] - 4s 4s/step\n"
          ]
        },
        {
          "name": "stderr",
          "output_type": "stream",
          "text": [
            " 99%|█████████████████████████████████████████████████████████████████████████████▏| 1980/2000 [12:18<00:07,  2.59it/s]"
          ]
        },
        {
          "name": "stdout",
          "output_type": "stream",
          "text": [
            "1/1 [==============================] - 4s 4s/step\n"
          ]
        },
        {
          "name": "stderr",
          "output_type": "stream",
          "text": [
            "100%|█████████████████████████████████████████████████████████████████████████████▌| 1990/2000 [12:22<00:03,  2.62it/s]"
          ]
        },
        {
          "name": "stdout",
          "output_type": "stream",
          "text": [
            "1/1 [==============================] - 4s 4s/step\n"
          ]
        },
        {
          "name": "stderr",
          "output_type": "stream",
          "text": [
            "100%|██████████████████████████████████████████████████████████████████████████████| 2000/2000 [12:26<00:00,  2.68it/s]\n"
          ]
        },
        {
          "data": {
            "image/png": "[encoded data removed]",
            "text/plain": [
              "<Figure size 1000x500 with 2 Axes>"
            ]
          },
          "metadata": {},
          "output_type": "display_data"
        },
        {
          "name": "stdout",
          "output_type": "stream",
          "text": [
            "\n",
            "Shape of tabular data: (1, 4)\n",
            "Tabular data for the patient: [87.     2.    22.     0.672]\n"
          ]
        }
      ],
      "source": [
        "import numpy as np\n",
        "import lime\n",
        "from lime import lime_image\n",
        "from keras.models import load_model\n",
        "import matplotlib.pyplot as plt\n",
        "import nibabel as nib\n",
        "from skimage.transform import resize\n",
        "from skimage.segmentation import slic\n",
        "\n",
        "# Load your trained hybrid model\n",
        "model = load_model('best_hybrid_model_01.h5')\n",
        "\n",
        "# Modified predict_on_batch function\n",
        "def predict_on_batch(image_batch, tabular_data):\n",
        "    if len(image_batch.shape) == 3:\n",
        "        image_batch = np.expand_dims(image_batch, axis=0)\n",
        "    if len(image_batch.shape) == 4:\n",
        "        image_batch = np.expand_dims(image_batch, axis=1)\n",
        "        image_batch = np.repeat(image_batch, 10, axis=1)\n",
        "\n",
        "    assert image_batch.shape[1:] == (10, 128, 128, 3), f\"Image shape mismatch: {image_batch.shape}\"\n",
        "\n",
        "    num_samples = image_batch.shape[0]\n",
        "    if tabular_data.shape[0] == 1:\n",
        "        tabular_data_repeated = np.repeat(tabular_data, num_samples, axis=0)\n",
        "    else:\n",
        "        assert tabular_data.shape[0] == num_samples, \"Tabular data samples don't match image samples\"\n",
        "        tabular_data_repeated = tabular_data\n",
        "\n",
        "    assert tabular_data_repeated.shape[1] == 4, f\"Tabular data shape mismatch: {tabular_data_repeated.shape}\"\n",
        "\n",
        "    predictions = model.predict([image_batch, tabular_data_repeated])\n",
        "    return predictions\n",
        "\n",
        "def get_predicted_class(predictions):\n",
        "    class_names = ['Non-Demented', 'Very Mild Dementia', 'Mild Dementia', 'Moderate Dementia']\n",
        "    class_index = np.argmax(predictions)\n",
        "    return class_names[class_index], predictions[0]\n",
        "\n",
        "def get_user_input():\n",
        "    mri_path = input(\"Enter the path to your MRI image: \")\n",
        "    age = float(input(\"Enter Age: \"))\n",
        "    educ = float(input(\"Enter Education Status: \"))\n",
        "    mmse = float(input(\"Enter MMSE score: \"))\n",
        "    nwbv = float(input(\"Enter nWBV: \"))\n",
        "\n",
        "    return mri_path, np.array([[age, educ, mmse, nwbv]])\n",
        "\n",
        "def load_and_preprocess_image(image_path):\n",
        "    nifti_img = nib.load(image_path)\n",
        "    img_data = nifti_img.get_fdata()\n",
        "\n",
        "    if len(img_data.shape) == 3:\n",
        "        middle_slice = img_data.shape[2] // 2\n",
        "        img_slice = img_data[:, :, middle_slice]\n",
        "    else:\n",
        "        img_slice = img_data\n",
        "\n",
        "    img_normalized = (img_slice - img_slice.min()) / (img_slice.max() - img_slice.min())\n",
        "    img_resized = resize(img_normalized, (128, 128), anti_aliasing=True)\n",
        "    img_rgb = np.stack([img_resized] * 3, axis=-1)\n",
        "\n",
        "    return img_rgb\n",
        "\n",
        "def main():\n",
        "    mri_path, tabular_data = get_user_input()\n",
        "    mri_slice_rgb = load_and_preprocess_image(mri_path)\n",
        "    predictions = predict_on_batch(np.expand_dims(mri_slice_rgb, axis=0), tabular_data)\n",
        "    predicted_class, class_probabilities = get_predicted_class(predictions)\n",
        "\n",
        "    print(f\"\\nPredicted Class: {predicted_class}\")\n",
        "    print(\"Class Probabilities:\")\n",
        "    for i, prob in enumerate(['Non Demented', 'Very Mild Dementia', 'Mild Dementia', 'Moderate Dementia']):\n",
        "        print(f\"{prob}: {class_probabilities[i]:.4f}\")\n",
        "\n",
        "    explainer = lime_image.LimeImageExplainer()\n",
        "\n",
        "    # Custom segmentation for smaller regions\n",
        "    segmentation_fn = lambda x: slic(x, n_segments=100, compactness=10, sigma=1)\n",
        "\n",
        "    # Explain the prediction for the MRI slice using the custom segmentation\n",
        "    explanation = explainer.explain_instance(\n",
        "        image=mri_slice_rgb,\n",
        "        classifier_fn=lambda x: predict_on_batch(x, tabular_data),\n",
        "        top_labels=4,\n",
        "        hide_color=0,\n",
        "        num_samples=2000,  # Increased number of samples for finer explanation\n",
        "        segmentation_fn=segmentation_fn\n",
        "    )\n",
        "\n",
        "    # Get the explanation for the top predicted label\n",
        "    temp, mask = explanation.get_image_and_mask(\n",
        "        label=explanation.top_labels[0],\n",
        "        positive_only=False,\n",
        "        hide_rest=False\n",
        "    )\n",
        "\n",
        "    # Display the explanation\n",
        "    plt.figure(figsize=(10, 5))\n",
        "    plt.subplot(1, 2, 1)\n",
        "    plt.imshow(mri_slice_rgb, cmap='gray')\n",
        "    plt.title(f'Original MRI Slice\\nPredicted: {predicted_class}')\n",
        "    plt.axis('off')\n",
        "    plt.subplot(1, 2, 2)\n",
        "    plt.imshow(temp, cmap='gray')\n",
        "    plt.imshow(mask, cmap=plt.cm.hot, alpha=0.5)\n",
        "    plt.title('LIME Explanation')\n",
        "    plt.axis('off')\n",
        "    plt.tight_layout()\n",
        "    plt.show()\n",
        "\n",
        "    print(\"\\nShape of tabular data:\", tabular_data.shape)\n",
        "    print(\"Tabular data for the patient:\", tabular_data[0])\n",
        "\n",
        "if __name__ == \"__main__\":\n",
        "    main()"
      ]
    },
    {
      "cell_type": "code",
      "execution_count": null,
      "id": "1ab0094f",
      "metadata": {
        "id": "1ab0094f",
        "outputId": "e4512d35-c03b-4ec8-8886-9be966501a44"
      },
      "outputs": [
        {
          "name": "stderr",
          "output_type": "stream",
          "text": [
            "WARNING: This is a development server. Do not use it in a production deployment. Use a production WSGI server instead.\n",
            " * Running on http://127.0.0.1:5000\n",
            "Press CTRL+C to quit\n"
          ]
        },
        {
          "name": "stdout",
          "output_type": "stream",
          "text": [
            "Models loaded successfully\n"
          ]
        },
        {
          "name": "stderr",
          "output_type": "stream",
          "text": [
            "127.0.0.1 - - [27/Oct/2024 12:16:49] \"GET / HTTP/1.1\" 200 -\n"
          ]
        },
        {
          "name": "stdout",
          "output_type": "stream",
          "text": [
            "1/1 [==============================] - 0s 475ms/step\n"
          ]
        },
        {
          "name": "stderr",
          "output_type": "stream",
          "text": [
            "  0%|                                                                                         | 0/1000 [00:00<?, ?it/s]"
          ]
        },
        {
          "name": "stdout",
          "output_type": "stream",
          "text": [
            "1/1 [==============================] - 3s 3s/step\n"
          ]
        },
        {
          "name": "stderr",
          "output_type": "stream",
          "text": [
            "  1%|▊                                                                               | 10/1000 [00:03<05:09,  3.20it/s]"
          ]
        },
        {
          "name": "stdout",
          "output_type": "stream",
          "text": [
            "1/1 [==============================] - 3s 3s/step\n"
          ]
        },
        {
          "name": "stderr",
          "output_type": "stream",
          "text": [
            "  2%|█▌                                                                              | 20/1000 [00:06<05:14,  3.12it/s]"
          ]
        },
        {
          "name": "stdout",
          "output_type": "stream",
          "text": [
            "1/1 [==============================] - 3s 3s/step\n"
          ]
        },
        {
          "name": "stderr",
          "output_type": "stream",
          "text": [
            "  3%|██▍                                                                             | 30/1000 [00:09<05:08,  3.14it/s]"
          ]
        },
        {
          "name": "stdout",
          "output_type": "stream",
          "text": [
            "1/1 [==============================] - 3s 3s/step\n"
          ]
        },
        {
          "name": "stderr",
          "output_type": "stream",
          "text": [
            "  4%|███▏                                                                            | 40/1000 [00:12<05:06,  3.13it/s]"
          ]
        },
        {
          "name": "stdout",
          "output_type": "stream",
          "text": [
            "1/1 [==============================] - 3s 3s/step\n"
          ]
        },
        {
          "name": "stderr",
          "output_type": "stream",
          "text": [
            "  5%|████                                                                            | 50/1000 [00:15<05:00,  3.16it/s]"
          ]
        },
        {
          "name": "stdout",
          "output_type": "stream",
          "text": [
            "1/1 [==============================] - 3s 3s/step\n"
          ]
        },
        {
          "name": "stderr",
          "output_type": "stream",
          "text": [
            "  6%|████▊                                                                           | 60/1000 [00:19<04:58,  3.15it/s]"
          ]
        },
        {
          "name": "stdout",
          "output_type": "stream",
          "text": [
            "1/1 [==============================] - 3s 3s/step\n"
          ]
        },
        {
          "name": "stderr",
          "output_type": "stream",
          "text": [
            "  7%|█████▌                                                                          | 70/1000 [00:22<04:53,  3.17it/s]"
          ]
        },
        {
          "name": "stdout",
          "output_type": "stream",
          "text": [
            "1/1 [==============================] - 3s 3s/step\n"
          ]
        },
        {
          "name": "stderr",
          "output_type": "stream",
          "text": [
            "  8%|██████▍                                                                         | 80/1000 [00:25<04:49,  3.18it/s]"
          ]
        },
        {
          "name": "stdout",
          "output_type": "stream",
          "text": [
            "1/1 [==============================] - 3s 3s/step\n"
          ]
        },
        {
          "name": "stderr",
          "output_type": "stream",
          "text": [
            "  9%|███████▏                                                                        | 90/1000 [00:28<04:51,  3.12it/s]"
          ]
        },
        {
          "name": "stdout",
          "output_type": "stream",
          "text": [
            "1/1 [==============================] - 3s 3s/step\n"
          ]
        },
        {
          "name": "stderr",
          "output_type": "stream",
          "text": [
            " 10%|███████▉                                                                       | 100/1000 [00:31<04:49,  3.11it/s]"
          ]
        },
        {
          "name": "stdout",
          "output_type": "stream",
          "text": [
            "1/1 [==============================] - 3s 3s/step\n"
          ]
        },
        {
          "name": "stderr",
          "output_type": "stream",
          "text": [
            " 11%|████████▋                                                                      | 110/1000 [00:35<04:46,  3.11it/s]"
          ]
        },
        {
          "name": "stdout",
          "output_type": "stream",
          "text": [
            "1/1 [==============================] - 3s 3s/step\n"
          ]
        },
        {
          "name": "stderr",
          "output_type": "stream",
          "text": [
            " 12%|█████████▍                                                                     | 120/1000 [00:38<04:46,  3.07it/s]"
          ]
        },
        {
          "name": "stdout",
          "output_type": "stream",
          "text": [
            "1/1 [==============================] - 3s 3s/step\n"
          ]
        },
        {
          "name": "stderr",
          "output_type": "stream",
          "text": [
            " 13%|██████████▎                                                                    | 130/1000 [00:41<04:48,  3.01it/s]"
          ]
        },
        {
          "name": "stdout",
          "output_type": "stream",
          "text": [
            "1/1 [==============================] - 3s 3s/step\n"
          ]
        },
        {
          "name": "stderr",
          "output_type": "stream",
          "text": [
            " 14%|███████████                                                                    | 140/1000 [00:45<04:48,  2.99it/s]"
          ]
        },
        {
          "name": "stdout",
          "output_type": "stream",
          "text": [
            "1/1 [==============================] - 3s 3s/step\n"
          ]
        },
        {
          "name": "stderr",
          "output_type": "stream",
          "text": [
            " 15%|███████████▊                                                                   | 150/1000 [00:48<04:48,  2.95it/s]"
          ]
        },
        {
          "name": "stdout",
          "output_type": "stream",
          "text": [
            "1/1 [==============================] - 3s 3s/step\n"
          ]
        },
        {
          "name": "stderr",
          "output_type": "stream",
          "text": [
            " 16%|████████████▋                                                                  | 160/1000 [00:52<04:45,  2.94it/s]"
          ]
        },
        {
          "name": "stdout",
          "output_type": "stream",
          "text": [
            "1/1 [==============================] - 3s 3s/step\n"
          ]
        },
        {
          "name": "stderr",
          "output_type": "stream",
          "text": [
            " 17%|█████████████▍                                                                 | 170/1000 [00:55<04:40,  2.96it/s]"
          ]
        },
        {
          "name": "stdout",
          "output_type": "stream",
          "text": [
            "1/1 [==============================] - 3s 3s/step\n"
          ]
        },
        {
          "name": "stderr",
          "output_type": "stream",
          "text": [
            " 18%|██████████████▏                                                                | 180/1000 [00:58<04:36,  2.96it/s]"
          ]
        },
        {
          "name": "stdout",
          "output_type": "stream",
          "text": [
            "1/1 [==============================] - 3s 3s/step\n"
          ]
        },
        {
          "name": "stderr",
          "output_type": "stream",
          "text": [
            " 19%|███████████████                                                                | 190/1000 [01:02<04:34,  2.95it/s]"
          ]
        },
        {
          "name": "stdout",
          "output_type": "stream",
          "text": [
            "1/1 [==============================] - 3s 3s/step\n"
          ]
        },
        {
          "name": "stderr",
          "output_type": "stream",
          "text": [
            " 20%|███████████████▊                                                               | 200/1000 [01:05<04:32,  2.94it/s]"
          ]
        },
        {
          "name": "stdout",
          "output_type": "stream",
          "text": [
            "1/1 [==============================] - 3s 3s/step\n"
          ]
        },
        {
          "name": "stderr",
          "output_type": "stream",
          "text": [
            " 21%|████████████████▌                                                              | 210/1000 [01:09<04:29,  2.93it/s]"
          ]
        },
        {
          "name": "stdout",
          "output_type": "stream",
          "text": [
            "1/1 [==============================] - 3s 3s/step\n"
          ]
        },
        {
          "name": "stderr",
          "output_type": "stream",
          "text": [
            " 22%|█████████████████▍                                                             | 220/1000 [01:12<04:29,  2.90it/s]"
          ]
        },
        {
          "name": "stdout",
          "output_type": "stream",
          "text": [
            "1/1 [==============================] - 4s 4s/step\n"
          ]
        },
        {
          "name": "stderr",
          "output_type": "stream",
          "text": [
            " 23%|██████████████████▏                                                            | 230/1000 [01:16<04:32,  2.83it/s]"
          ]
        },
        {
          "name": "stdout",
          "output_type": "stream",
          "text": [
            "1/1 [==============================] - 4s 4s/step\n"
          ]
        },
        {
          "name": "stderr",
          "output_type": "stream",
          "text": [
            " 24%|██████████████████▉                                                            | 240/1000 [01:20<04:30,  2.80it/s]"
          ]
        },
        {
          "name": "stdout",
          "output_type": "stream",
          "text": [
            "1/1 [==============================] - 3s 3s/step\n"
          ]
        },
        {
          "name": "stderr",
          "output_type": "stream",
          "text": [
            " 25%|███████████████████▊                                                           | 250/1000 [01:23<04:23,  2.85it/s]"
          ]
        },
        {
          "name": "stdout",
          "output_type": "stream",
          "text": [
            "1/1 [==============================] - 3s 3s/step\n"
          ]
        },
        {
          "name": "stderr",
          "output_type": "stream",
          "text": [
            " 26%|████████████████████▌                                                          | 260/1000 [01:26<04:17,  2.88it/s]"
          ]
        },
        {
          "name": "stdout",
          "output_type": "stream",
          "text": [
            "1/1 [==============================] - 3s 3s/step\n"
          ]
        },
        {
          "name": "stderr",
          "output_type": "stream",
          "text": [
            " 27%|█████████████████████▎                                                         | 270/1000 [01:30<04:14,  2.87it/s]"
          ]
        },
        {
          "name": "stdout",
          "output_type": "stream",
          "text": [
            "1/1 [==============================] - 4s 4s/step\n"
          ]
        },
        {
          "name": "stderr",
          "output_type": "stream",
          "text": [
            " 28%|██████████████████████                                                         | 280/1000 [01:34<04:15,  2.82it/s]"
          ]
        },
        {
          "name": "stdout",
          "output_type": "stream",
          "text": [
            "1/1 [==============================] - 3s 3s/step\n"
          ]
        },
        {
          "name": "stderr",
          "output_type": "stream",
          "text": [
            " 29%|██████████████████████▉                                                        | 290/1000 [01:37<04:12,  2.82it/s]"
          ]
        },
        {
          "name": "stdout",
          "output_type": "stream",
          "text": [
            "1/1 [==============================] - 4s 4s/step\n"
          ]
        },
        {
          "name": "stderr",
          "output_type": "stream",
          "text": [
            " 30%|███████████████████████▋                                                       | 300/1000 [01:41<04:10,  2.79it/s]"
          ]
        },
        {
          "name": "stdout",
          "output_type": "stream",
          "text": [
            "1/1 [==============================] - 4s 4s/step\n"
          ]
        },
        {
          "name": "stderr",
          "output_type": "stream",
          "text": [
            " 31%|████████████████████████▍                                                      | 310/1000 [01:45<04:11,  2.75it/s]"
          ]
        },
        {
          "name": "stdout",
          "output_type": "stream",
          "text": [
            "1/1 [==============================] - 3s 3s/step\n"
          ]
        },
        {
          "name": "stderr",
          "output_type": "stream",
          "text": [
            " 32%|█████████████████████████▎                                                     | 320/1000 [01:48<04:05,  2.77it/s]"
          ]
        },
        {
          "name": "stdout",
          "output_type": "stream",
          "text": [
            "1/1 [==============================] - 3s 3s/step\n"
          ]
        },
        {
          "name": "stderr",
          "output_type": "stream",
          "text": [
            " 33%|██████████████████████████                                                     | 330/1000 [01:52<04:00,  2.79it/s]"
          ]
        },
        {
          "name": "stdout",
          "output_type": "stream",
          "text": [
            "1/1 [==============================] - 3s 3s/step\n"
          ]
        },
        {
          "name": "stderr",
          "output_type": "stream",
          "text": [
            " 34%|██████████████████████████▊                                                    | 340/1000 [01:55<03:55,  2.80it/s]"
          ]
        },
        {
          "name": "stdout",
          "output_type": "stream",
          "text": [
            "1/1 [==============================] - 3s 3s/step\n"
          ]
        },
        {
          "name": "stderr",
          "output_type": "stream",
          "text": [
            " 35%|███████████████████████████▋                                                   | 350/1000 [01:59<03:50,  2.82it/s]"
          ]
        },
        {
          "name": "stdout",
          "output_type": "stream",
          "text": [
            "1/1 [==============================] - 4s 4s/step\n"
          ]
        },
        {
          "name": "stderr",
          "output_type": "stream",
          "text": [
            " 36%|████████████████████████████▍                                                  | 360/1000 [02:02<03:47,  2.81it/s]"
          ]
        },
        {
          "name": "stdout",
          "output_type": "stream",
          "text": [
            "1/1 [==============================] - 4s 4s/step\n"
          ]
        },
        {
          "name": "stderr",
          "output_type": "stream",
          "text": [
            " 37%|█████████████████████████████▏                                                 | 370/1000 [02:06<03:45,  2.79it/s]"
          ]
        },
        {
          "name": "stdout",
          "output_type": "stream",
          "text": [
            "1/1 [==============================] - 4s 4s/step\n"
          ]
        },
        {
          "name": "stderr",
          "output_type": "stream",
          "text": [
            " 38%|██████████████████████████████                                                 | 380/1000 [02:10<03:42,  2.78it/s]"
          ]
        },
        {
          "name": "stdout",
          "output_type": "stream",
          "text": [
            "1/1 [==============================] - 4s 4s/step\n"
          ]
        },
        {
          "name": "stderr",
          "output_type": "stream",
          "text": [
            " 39%|██████████████████████████████▊                                                | 390/1000 [02:13<03:40,  2.77it/s]"
          ]
        },
        {
          "name": "stdout",
          "output_type": "stream",
          "text": [
            "1/1 [==============================] - 4s 4s/step\n"
          ]
        },
        {
          "name": "stderr",
          "output_type": "stream",
          "text": [
            " 40%|███████████████████████████████▌                                               | 400/1000 [02:17<03:37,  2.76it/s]"
          ]
        },
        {
          "name": "stdout",
          "output_type": "stream",
          "text": [
            "1/1 [==============================] - 3s 3s/step\n"
          ]
        },
        {
          "name": "stderr",
          "output_type": "stream",
          "text": [
            " 41%|████████████████████████████████▍                                              | 410/1000 [02:20<03:31,  2.79it/s]"
          ]
        },
        {
          "name": "stdout",
          "output_type": "stream",
          "text": [
            "1/1 [==============================] - 3s 3s/step\n"
          ]
        },
        {
          "name": "stderr",
          "output_type": "stream",
          "text": [
            " 42%|█████████████████████████████████▏                                             | 420/1000 [02:24<03:27,  2.80it/s]"
          ]
        },
        {
          "name": "stdout",
          "output_type": "stream",
          "text": [
            "1/1 [==============================] - 3s 3s/step\n"
          ]
        },
        {
          "name": "stderr",
          "output_type": "stream",
          "text": [
            " 43%|█████████████████████████████████▉                                             | 430/1000 [02:27<03:23,  2.81it/s]"
          ]
        },
        {
          "name": "stdout",
          "output_type": "stream",
          "text": [
            "1/1 [==============================] - 4s 4s/step\n"
          ]
        },
        {
          "name": "stderr",
          "output_type": "stream",
          "text": [
            " 44%|██████████████████████████████████▊                                            | 440/1000 [02:31<03:19,  2.81it/s]"
          ]
        },
        {
          "name": "stdout",
          "output_type": "stream",
          "text": [
            "1/1 [==============================] - 3s 3s/step\n"
          ]
        },
        {
          "name": "stderr",
          "output_type": "stream",
          "text": [
            " 45%|███████████████████████████████████▌                                           | 450/1000 [02:35<03:15,  2.81it/s]"
          ]
        },
        {
          "name": "stdout",
          "output_type": "stream",
          "text": [
            "1/1 [==============================] - 3s 3s/step\n"
          ]
        },
        {
          "name": "stderr",
          "output_type": "stream",
          "text": [
            " 46%|████████████████████████████████████▎                                          | 460/1000 [02:38<03:11,  2.83it/s]"
          ]
        },
        {
          "name": "stdout",
          "output_type": "stream",
          "text": [
            "1/1 [==============================] - 3s 3s/step\n"
          ]
        },
        {
          "name": "stderr",
          "output_type": "stream",
          "text": [
            " 47%|█████████████████████████████████████▏                                         | 470/1000 [02:42<03:07,  2.82it/s]"
          ]
        },
        {
          "name": "stdout",
          "output_type": "stream",
          "text": [
            "1/1 [==============================] - 4s 4s/step\n"
          ]
        },
        {
          "name": "stderr",
          "output_type": "stream",
          "text": [
            " 48%|█████████████████████████████████████▉                                         | 480/1000 [02:45<03:05,  2.80it/s]"
          ]
        },
        {
          "name": "stdout",
          "output_type": "stream",
          "text": [
            "1/1 [==============================] - 4s 4s/step\n"
          ]
        },
        {
          "name": "stderr",
          "output_type": "stream",
          "text": [
            " 49%|██████████████████████████████████████▋                                        | 490/1000 [02:49<03:01,  2.80it/s]"
          ]
        },
        {
          "name": "stdout",
          "output_type": "stream",
          "text": [
            "1/1 [==============================] - 3s 3s/step\n"
          ]
        },
        {
          "name": "stderr",
          "output_type": "stream",
          "text": [
            " 50%|███████████████████████████████████████▌                                       | 500/1000 [02:52<02:57,  2.81it/s]"
          ]
        },
        {
          "name": "stdout",
          "output_type": "stream",
          "text": [
            "1/1 [==============================] - 3s 3s/step\n"
          ]
        },
        {
          "name": "stderr",
          "output_type": "stream",
          "text": [
            " 51%|████████████████████████████████████████▎                                      | 510/1000 [02:56<02:53,  2.82it/s]"
          ]
        },
        {
          "name": "stdout",
          "output_type": "stream",
          "text": [
            "1/1 [==============================] - 3s 3s/step\n"
          ]
        },
        {
          "name": "stderr",
          "output_type": "stream",
          "text": [
            " 52%|█████████████████████████████████████████                                      | 520/1000 [02:59<02:50,  2.82it/s]"
          ]
        },
        {
          "name": "stdout",
          "output_type": "stream",
          "text": [
            "1/1 [==============================] - 3s 3s/step\n"
          ]
        },
        {
          "name": "stderr",
          "output_type": "stream",
          "text": [
            " 53%|█████████████████████████████████████████▊                                     | 530/1000 [03:03<02:46,  2.82it/s]"
          ]
        },
        {
          "name": "stdout",
          "output_type": "stream",
          "text": [
            "1/1 [==============================] - 3s 3s/step\n"
          ]
        },
        {
          "name": "stderr",
          "output_type": "stream",
          "text": [
            " 54%|██████████████████████████████████████████▋                                    | 540/1000 [03:06<02:43,  2.82it/s]"
          ]
        },
        {
          "name": "stdout",
          "output_type": "stream",
          "text": [
            "1/1 [==============================] - 3s 3s/step\n"
          ]
        },
        {
          "name": "stderr",
          "output_type": "stream",
          "text": [
            " 55%|███████████████████████████████████████████▍                                   | 550/1000 [03:10<02:39,  2.82it/s]"
          ]
        },
        {
          "name": "stdout",
          "output_type": "stream",
          "text": [
            "1/1 [==============================] - 4s 4s/step\n"
          ]
        },
        {
          "name": "stderr",
          "output_type": "stream",
          "text": [
            " 56%|████████████████████████████████████████████▏                                  | 560/1000 [03:14<02:37,  2.80it/s]"
          ]
        },
        {
          "name": "stdout",
          "output_type": "stream",
          "text": [
            "1/1 [==============================] - 4s 4s/step\n"
          ]
        },
        {
          "name": "stderr",
          "output_type": "stream",
          "text": [
            " 57%|█████████████████████████████████████████████                                  | 570/1000 [03:17<02:34,  2.78it/s]"
          ]
        },
        {
          "name": "stdout",
          "output_type": "stream",
          "text": [
            "1/1 [==============================] - 4s 4s/step\n"
          ]
        },
        {
          "name": "stderr",
          "output_type": "stream",
          "text": [
            " 58%|█████████████████████████████████████████████▊                                 | 580/1000 [03:21<02:30,  2.79it/s]"
          ]
        },
        {
          "name": "stdout",
          "output_type": "stream",
          "text": [
            "1/1 [==============================] - 3s 3s/step\n"
          ]
        },
        {
          "name": "stderr",
          "output_type": "stream",
          "text": [
            " 59%|██████████████████████████████████████████████▌                                | 590/1000 [03:24<02:26,  2.80it/s]"
          ]
        },
        {
          "name": "stdout",
          "output_type": "stream",
          "text": [
            "1/1 [==============================] - 4s 4s/step\n"
          ]
        },
        {
          "name": "stderr",
          "output_type": "stream",
          "text": [
            " 60%|███████████████████████████████████████████████▍                               | 600/1000 [03:28<02:23,  2.80it/s]"
          ]
        },
        {
          "name": "stdout",
          "output_type": "stream",
          "text": [
            "1/1 [==============================] - 4s 4s/step\n"
          ]
        },
        {
          "name": "stderr",
          "output_type": "stream",
          "text": [
            " 61%|████████████████████████████████████████████████▏                              | 610/1000 [03:32<02:19,  2.80it/s]"
          ]
        },
        {
          "name": "stdout",
          "output_type": "stream",
          "text": [
            "1/1 [==============================] - 4s 4s/step\n"
          ]
        },
        {
          "name": "stderr",
          "output_type": "stream",
          "text": [
            " 62%|████████████████████████████████████████████████▉                              | 620/1000 [03:35<02:15,  2.79it/s]"
          ]
        },
        {
          "name": "stdout",
          "output_type": "stream",
          "text": [
            "1/1 [==============================] - 4s 4s/step\n"
          ]
        },
        {
          "name": "stderr",
          "output_type": "stream",
          "text": [
            " 63%|█████████████████████████████████████████████████▊                             | 630/1000 [03:39<02:12,  2.79it/s]"
          ]
        },
        {
          "name": "stdout",
          "output_type": "stream",
          "text": [
            "1/1 [==============================] - 4s 4s/step\n"
          ]
        },
        {
          "name": "stderr",
          "output_type": "stream",
          "text": [
            " 64%|██████████████████████████████████████████████████▌                            | 640/1000 [03:42<02:09,  2.78it/s]"
          ]
        },
        {
          "name": "stdout",
          "output_type": "stream",
          "text": [
            "1/1 [==============================] - 4s 4s/step\n"
          ]
        },
        {
          "name": "stderr",
          "output_type": "stream",
          "text": [
            " 65%|███████████████████████████████████████████████████▎                           | 650/1000 [03:46<02:06,  2.77it/s]"
          ]
        },
        {
          "name": "stdout",
          "output_type": "stream",
          "text": [
            "1/1 [==============================] - 4s 4s/step\n"
          ]
        },
        {
          "name": "stderr",
          "output_type": "stream",
          "text": [
            " 66%|████████████████████████████████████████████████████▏                          | 660/1000 [03:50<02:04,  2.73it/s]"
          ]
        },
        {
          "name": "stdout",
          "output_type": "stream",
          "text": [
            "1/1 [==============================] - 4s 4s/step\n"
          ]
        },
        {
          "name": "stderr",
          "output_type": "stream",
          "text": [
            " 67%|████████████████████████████████████████████████████▉                          | 670/1000 [03:53<02:01,  2.72it/s]"
          ]
        },
        {
          "name": "stdout",
          "output_type": "stream",
          "text": [
            "1/1 [==============================] - 4s 4s/step\n"
          ]
        },
        {
          "name": "stderr",
          "output_type": "stream",
          "text": [
            " 68%|█████████████████████████████████████████████████████▋                         | 680/1000 [03:57<01:58,  2.71it/s]"
          ]
        },
        {
          "name": "stdout",
          "output_type": "stream",
          "text": [
            "1/1 [==============================] - 4s 4s/step\n"
          ]
        },
        {
          "name": "stderr",
          "output_type": "stream",
          "text": [
            " 69%|██████████████████████████████████████████████████████▌                        | 690/1000 [04:01<01:54,  2.70it/s]"
          ]
        },
        {
          "name": "stdout",
          "output_type": "stream",
          "text": [
            "1/1 [==============================] - 4s 4s/step\n"
          ]
        },
        {
          "name": "stderr",
          "output_type": "stream",
          "text": [
            " 70%|███████████████████████████████████████████████████████▎                       | 700/1000 [04:05<01:51,  2.70it/s]"
          ]
        },
        {
          "name": "stdout",
          "output_type": "stream",
          "text": [
            "1/1 [==============================] - 4s 4s/step\n"
          ]
        },
        {
          "name": "stderr",
          "output_type": "stream",
          "text": [
            " 71%|████████████████████████████████████████████████████████                       | 710/1000 [04:08<01:47,  2.70it/s]"
          ]
        },
        {
          "name": "stdout",
          "output_type": "stream",
          "text": [
            "1/1 [==============================] - 4s 4s/step\n"
          ]
        },
        {
          "name": "stderr",
          "output_type": "stream",
          "text": [
            " 72%|████████████████████████████████████████████████████████▉                      | 720/1000 [04:12<01:44,  2.69it/s]"
          ]
        },
        {
          "name": "stdout",
          "output_type": "stream",
          "text": [
            "1/1 [==============================] - 4s 4s/step\n"
          ]
        },
        {
          "name": "stderr",
          "output_type": "stream",
          "text": [
            " 73%|█████████████████████████████████████████████████████████▋                     | 730/1000 [04:16<01:41,  2.67it/s]"
          ]
        },
        {
          "name": "stdout",
          "output_type": "stream",
          "text": [
            "1/1 [==============================] - 4s 4s/step\n"
          ]
        },
        {
          "name": "stderr",
          "output_type": "stream",
          "text": [
            " 74%|██████████████████████████████████████████████████████████▍                    | 740/1000 [04:20<01:39,  2.62it/s]"
          ]
        },
        {
          "name": "stdout",
          "output_type": "stream",
          "text": [
            "1/1 [==============================] - 4s 4s/step\n"
          ]
        },
        {
          "name": "stderr",
          "output_type": "stream",
          "text": [
            " 75%|███████████████████████████████████████████████████████████▎                   | 750/1000 [04:24<01:35,  2.61it/s]"
          ]
        },
        {
          "name": "stdout",
          "output_type": "stream",
          "text": [
            "1/1 [==============================] - 4s 4s/step\n"
          ]
        },
        {
          "name": "stderr",
          "output_type": "stream",
          "text": [
            " 76%|████████████████████████████████████████████████████████████                   | 760/1000 [04:28<01:32,  2.60it/s]"
          ]
        },
        {
          "name": "stdout",
          "output_type": "stream",
          "text": [
            "1/1 [==============================] - 4s 4s/step\n"
          ]
        },
        {
          "name": "stderr",
          "output_type": "stream",
          "text": [
            " 77%|████████████████████████████████████████████████████████████▊                  | 770/1000 [04:32<01:29,  2.58it/s]"
          ]
        },
        {
          "name": "stdout",
          "output_type": "stream",
          "text": [
            "1/1 [==============================] - 4s 4s/step\n"
          ]
        },
        {
          "name": "stderr",
          "output_type": "stream",
          "text": [
            " 78%|█████████████████████████████████████████████████████████████▌                 | 780/1000 [04:36<01:25,  2.57it/s]"
          ]
        },
        {
          "name": "stdout",
          "output_type": "stream",
          "text": [
            "1/1 [==============================] - 4s 4s/step\n"
          ]
        },
        {
          "name": "stderr",
          "output_type": "stream",
          "text": [
            " 79%|██████████████████████████████████████████████████████████████▍                | 790/1000 [04:40<01:22,  2.54it/s]"
          ]
        },
        {
          "name": "stdout",
          "output_type": "stream",
          "text": [
            "1/1 [==============================] - 4s 4s/step\n"
          ]
        },
        {
          "name": "stderr",
          "output_type": "stream",
          "text": [
            " 80%|███████████████████████████████████████████████████████████████▏               | 800/1000 [04:44<01:19,  2.51it/s]"
          ]
        },
        {
          "name": "stdout",
          "output_type": "stream",
          "text": [
            "1/1 [==============================] - 4s 4s/step\n"
          ]
        },
        {
          "name": "stderr",
          "output_type": "stream",
          "text": [
            " 81%|███████████████████████████████████████████████████████████████▉               | 810/1000 [04:48<01:15,  2.52it/s]"
          ]
        },
        {
          "name": "stdout",
          "output_type": "stream",
          "text": [
            "1/1 [==============================] - 4s 4s/step\n"
          ]
        },
        {
          "name": "stderr",
          "output_type": "stream",
          "text": [
            " 82%|████████████████████████████████████████████████████████████████▊              | 820/1000 [04:51<01:10,  2.57it/s]"
          ]
        },
        {
          "name": "stdout",
          "output_type": "stream",
          "text": [
            "1/1 [==============================] - 4s 4s/step\n"
          ]
        },
        {
          "name": "stderr",
          "output_type": "stream",
          "text": [
            " 83%|█████████████████████████████████████████████████████████████████▌             | 830/1000 [04:55<01:06,  2.57it/s]"
          ]
        },
        {
          "name": "stdout",
          "output_type": "stream",
          "text": [
            "1/1 [==============================] - 4s 4s/step\n"
          ]
        },
        {
          "name": "stderr",
          "output_type": "stream",
          "text": [
            " 84%|██████████████████████████████████████████████████████████████████▎            | 840/1000 [04:59<01:01,  2.60it/s]"
          ]
        },
        {
          "name": "stdout",
          "output_type": "stream",
          "text": [
            "1/1 [==============================] - 4s 4s/step\n"
          ]
        },
        {
          "name": "stderr",
          "output_type": "stream",
          "text": [
            " 85%|███████████████████████████████████████████████████████████████████▏           | 850/1000 [05:03<00:57,  2.61it/s]"
          ]
        },
        {
          "name": "stdout",
          "output_type": "stream",
          "text": [
            "1/1 [==============================] - 4s 4s/step\n"
          ]
        },
        {
          "name": "stderr",
          "output_type": "stream",
          "text": [
            " 86%|███████████████████████████████████████████████████████████████████▉           | 860/1000 [05:07<00:53,  2.61it/s]"
          ]
        },
        {
          "name": "stdout",
          "output_type": "stream",
          "text": [
            "1/1 [==============================] - 4s 4s/step\n"
          ]
        },
        {
          "name": "stderr",
          "output_type": "stream",
          "text": [
            " 87%|████████████████████████████████████████████████████████████████████▋          | 870/1000 [05:10<00:49,  2.62it/s]"
          ]
        },
        {
          "name": "stdout",
          "output_type": "stream",
          "text": [
            "1/1 [==============================] - 4s 4s/step\n"
          ]
        },
        {
          "name": "stderr",
          "output_type": "stream",
          "text": [
            " 88%|█████████████████████████████████████████████████████████████████████▌         | 880/1000 [05:14<00:45,  2.62it/s]"
          ]
        },
        {
          "name": "stdout",
          "output_type": "stream",
          "text": [
            "1/1 [==============================] - 4s 4s/step\n"
          ]
        },
        {
          "name": "stderr",
          "output_type": "stream",
          "text": [
            " 89%|██████████████████████████████████████████████████████████████████████▎        | 890/1000 [05:18<00:42,  2.60it/s]"
          ]
        },
        {
          "name": "stdout",
          "output_type": "stream",
          "text": [
            "1/1 [==============================] - 4s 4s/step\n"
          ]
        },
        {
          "name": "stderr",
          "output_type": "stream",
          "text": [
            " 90%|███████████████████████████████████████████████████████████████████████        | 900/1000 [05:22<00:38,  2.63it/s]"
          ]
        },
        {
          "name": "stdout",
          "output_type": "stream",
          "text": [
            "1/1 [==============================] - 4s 4s/step\n"
          ]
        },
        {
          "name": "stderr",
          "output_type": "stream",
          "text": [
            " 91%|███████████████████████████████████████████████████████████████████████▉       | 910/1000 [05:25<00:33,  2.66it/s]"
          ]
        },
        {
          "name": "stdout",
          "output_type": "stream",
          "text": [
            "1/1 [==============================] - 4s 4s/step\n"
          ]
        },
        {
          "name": "stderr",
          "output_type": "stream",
          "text": [
            " 92%|████████████████████████████████████████████████████████████████████████▋      | 920/1000 [05:29<00:29,  2.68it/s]"
          ]
        },
        {
          "name": "stdout",
          "output_type": "stream",
          "text": [
            "1/1 [==============================] - 4s 4s/step\n"
          ]
        },
        {
          "name": "stderr",
          "output_type": "stream",
          "text": [
            " 93%|█████████████████████████████████████████████████████████████████████████▍     | 930/1000 [05:33<00:26,  2.69it/s]"
          ]
        },
        {
          "name": "stdout",
          "output_type": "stream",
          "text": [
            "1/1 [==============================] - 4s 4s/step\n"
          ]
        },
        {
          "name": "stderr",
          "output_type": "stream",
          "text": [
            " 94%|██████████████████████████████████████████████████████████████████████████▎    | 940/1000 [05:36<00:22,  2.71it/s]"
          ]
        },
        {
          "name": "stdout",
          "output_type": "stream",
          "text": [
            "1/1 [==============================] - 4s 4s/step\n"
          ]
        },
        {
          "name": "stderr",
          "output_type": "stream",
          "text": [
            " 95%|███████████████████████████████████████████████████████████████████████████    | 950/1000 [05:40<00:18,  2.72it/s]"
          ]
        },
        {
          "name": "stdout",
          "output_type": "stream",
          "text": [
            "1/1 [==============================] - 4s 4s/step\n"
          ]
        },
        {
          "name": "stderr",
          "output_type": "stream",
          "text": [
            " 96%|███████████████████████████████████████████████████████████████████████████▊   | 960/1000 [05:44<00:14,  2.71it/s]"
          ]
        },
        {
          "name": "stdout",
          "output_type": "stream",
          "text": [
            "1/1 [==============================] - 4s 4s/step\n"
          ]
        },
        {
          "name": "stderr",
          "output_type": "stream",
          "text": [
            " 97%|████████████████████████████████████████████████████████████████████████████▋  | 970/1000 [05:47<00:11,  2.70it/s]"
          ]
        },
        {
          "name": "stdout",
          "output_type": "stream",
          "text": [
            "1/1 [==============================] - 4s 4s/step\n"
          ]
        },
        {
          "name": "stderr",
          "output_type": "stream",
          "text": [
            " 98%|█████████████████████████████████████████████████████████████████████████████▍ | 980/1000 [05:51<00:07,  2.71it/s]"
          ]
        },
        {
          "name": "stdout",
          "output_type": "stream",
          "text": [
            "1/1 [==============================] - 4s 4s/step\n"
          ]
        },
        {
          "name": "stderr",
          "output_type": "stream",
          "text": [
            " 99%|██████████████████████████████████████████████████████████████████████████████▏| 990/1000 [05:55<00:03,  2.71it/s]"
          ]
        },
        {
          "name": "stdout",
          "output_type": "stream",
          "text": [
            "1/1 [==============================] - 4s 4s/step\n"
          ]
        },
        {
          "name": "stderr",
          "output_type": "stream",
          "text": [
            "100%|██████████████████████████████████████████████████████████████████████████████| 1000/1000 [05:59<00:00,  2.78it/s]\n"
          ]
        },
        {
          "name": "stdout",
          "output_type": "stream",
          "text": [
            "1/1 [==============================] - 0s 396ms/step\n"
          ]
        },
        {
          "name": "stderr",
          "output_type": "stream",
          "text": [
            "127.0.0.1 - - [27/Oct/2024 12:23:07] \"POST /predict HTTP/1.1\" 200 -\n"
          ]
        }
      ],
      "source": [
        "# Install required packages\n",
        "# pip install flask flask-cors nibabel tensorflow pillow nest-asyncio\n",
        "\n",
        "from flask import Flask, request, render_template_string\n",
        "from flask_cors import CORS\n",
        "import os\n",
        "import numpy as np\n",
        "import nibabel as nib\n",
        "import tensorflow as tf\n",
        "import cv2\n",
        "from skimage.transform import resize\n",
        "import lime\n",
        "from lime import lime_image\n",
        "import matplotlib.pyplot as plt\n",
        "import io\n",
        "import base64\n",
        "from werkzeug.utils import secure_filename\n",
        "import nest_asyncio\n",
        "\n",
        "# Apply nest_asyncio for Jupyter\n",
        "nest_asyncio.apply()\n",
        "\n",
        "# Constants\n",
        "IMG_SIZE = 128\n",
        "NUM_SLICES = 10\n",
        "CHANNELS = 3\n",
        "CLASSES = ['Non Demented', 'Very Mild Dementia', 'Mild Dementia', 'Moderate Dementia']\n",
        "UPLOAD_FOLDER = 'temp_uploads'\n",
        "ALLOWED_EXTENSIONS = {'nii', 'nii.gz'}\n",
        "\n",
        "# Create Flask app\n",
        "app = Flask(__name__)\n",
        "CORS(app)\n",
        "\n",
        "# Configure upload folder\n",
        "app.config['UPLOAD_FOLDER'] = UPLOAD_FOLDER\n",
        "os.makedirs(UPLOAD_FOLDER, exist_ok=True)\n",
        "\n",
        "# Load models\n",
        "main_model = None\n",
        "explainable_model = None\n",
        "\n",
        "# HTML template\n",
        "HTML_TEMPLATE = \"\"\"\n",
        "<!DOCTYPE html>\n",
        "<html>\n",
        "<head>\n",
        "    <title>Alzheimer's Detection</title>\n",
        "    <style>\n",
        "        body {\n",
        "            font-family: Arial, sans-serif;\n",
        "            max-width: 1200px;\n",
        "            margin: 20px auto;\n",
        "            padding: 20px;\n",
        "            background-color: #f5f5f5;\n",
        "        }\n",
        "        .container {\n",
        "            background-color: white;\n",
        "            padding: 20px;\n",
        "            border-radius: 8px;\n",
        "            box-shadow: 0 2px 4px rgba(0,0,0,0.1);\n",
        "        }\n",
        "        .result {\n",
        "            margin-top: 20px;\n",
        "            padding: 20px;\n",
        "            background-color: #f8f9fa;\n",
        "            border-radius: 8px;\n",
        "        }\n",
        "        .image-container {\n",
        "            margin-top: 20px;\n",
        "            background-color: white;\n",
        "            padding: 20px;\n",
        "            border-radius: 8px;\n",
        "            box-shadow: 0 2px 4px rgba(0,0,0,0.1);\n",
        "        }\n",
        "        img {\n",
        "            width: 100%;\n",
        "            max-width: 1000px;\n",
        "            height: auto;\n",
        "            display: block;\n",
        "            margin: 0 auto;\n",
        "        }\n",
        "        .form-group {\n",
        "            margin-bottom: 15px;\n",
        "        }\n",
        "        label {\n",
        "            font-weight: bold;\n",
        "            display: block;\n",
        "            margin-bottom: 5px;\n",
        "        }\n",
        "        input {\n",
        "            width: 100%;\n",
        "            padding: 8px;\n",
        "            margin-bottom: 10px;\n",
        "            border: 1px solid #ddd;\n",
        "            border-radius: 4px;\n",
        "            box-sizing: border-box;\n",
        "        }\n",
        "        input[type=\"submit\"] {\n",
        "            background-color: #4CAF50;\n",
        "            color: white;\n",
        "            padding: 10px 20px;\n",
        "            border: none;\n",
        "            border-radius: 4px;\n",
        "            cursor: pointer;\n",
        "            width: auto;\n",
        "        }\n",
        "        input[type=\"submit\"]:hover {\n",
        "            background-color: #45a049;\n",
        "        }\n",
        "        .probability-bar {\n",
        "            margin-bottom: 10px;\n",
        "            background-color: #f0f0f0;\n",
        "            border-radius: 4px;\n",
        "            padding: 5px;\n",
        "        }\n",
        "        .probability-bar div {\n",
        "            background-color: #4CAF50;\n",
        "            height: 20px;\n",
        "            border-radius: 4px;\n",
        "        }\n",
        "        .error {\n",
        "            color: red;\n",
        "            background-color: #fee;\n",
        "            padding: 10px;\n",
        "            border-radius: 4px;\n",
        "            margin-top: 10px;\n",
        "        }\n",
        "    </style>\n",
        "</head>\n",
        "<body>\n",
        "    <div class=\"container\">\n",
        "        <h2>Alzheimer's Disease Detection</h2>\n",
        "\n",
        "        <form action=\"/predict\" method=\"post\" enctype=\"multipart/form-data\">\n",
        "            <div class=\"form-group\">\n",
        "                <label>MRI Scan (.nii file):</label>\n",
        "                <input type=\"file\" name=\"file\" accept=\".nii,.nii.gz\" required>\n",
        "            </div>\n",
        "\n",
        "            <div class=\"form-group\">\n",
        "                <label>Age:</label>\n",
        "                <input type=\"number\" name=\"age\" step=\"0.1\" required>\n",
        "            </div>\n",
        "\n",
        "            <div class=\"form-group\">\n",
        "                <label>Education Status:</label>\n",
        "                <input type=\"number\" name=\"education\" required>\n",
        "            </div>\n",
        "\n",
        "            <div class=\"form-group\">\n",
        "                <label>Mental State Examination Score:</label>\n",
        "                <input type=\"number\" name=\"mmse\" step=\"0.1\" required>\n",
        "            </div>\n",
        "\n",
        "            <div class=\"form-group\">\n",
        "                <label>Normalized Whole Brain Volume:</label>\n",
        "                <input type=\"number\" name=\"nwbv\" step=\"0.0001\" required>\n",
        "            </div>\n",
        "\n",
        "            <input type=\"submit\" value=\"Predict\">\n",
        "        </form>\n",
        "\n",
        "        {% if error %}\n",
        "        <div class=\"error\">{{ error }}</div>\n",
        "        {% endif %}\n",
        "\n",
        "        {% if result %}\n",
        "        <div class=\"result\">\n",
        "            <h3>Results</h3>\n",
        "            <p><strong>Predicted Class:</strong> {{ result.predicted_class }}</p>\n",
        "\n",
        "            <h4>Probabilities:</h4>\n",
        "            {% for class_name, prob in result.probabilities.items() %}\n",
        "            <div class=\"probability-bar\">\n",
        "                <label>{{ class_name }}:</label>\n",
        "                <div style=\"width: {{ \"%.1f\"|format(prob * 100) }}%\"></div>\n",
        "                <span>{{ \"%.2f\"|format(prob * 100) }}%</span>\n",
        "            </div>\n",
        "            {% endfor %}\n",
        "\n",
        "            {% if result.explanation_image %}\n",
        "            <div class=\"image-container\">\n",
        "                <h4>MRI Analysis:</h4>\n",
        "                <img src=\"data:image/png;base64,{{ result.explanation_image }}\"\n",
        "                     alt=\"LIME Explanation\">\n",
        "            </div>\n",
        "            {% endif %}\n",
        "        </div>\n",
        "        {% endif %}\n",
        "    </div>\n",
        "</body>\n",
        "</html>\n",
        "\"\"\"\n",
        "\n",
        "def allowed_file(filename):\n",
        "    return '.' in filename and filename.rsplit('.', 1)[1].lower() in ALLOWED_EXTENSIONS\n",
        "\n",
        "def load_models():\n",
        "    \"\"\"Load both models\"\"\"\n",
        "    global main_model\n",
        "    try:\n",
        "        main_model = tf.keras.models.load_model('best_hybrid_model_01.h5')\n",
        "        print(\"Models loaded successfully\")\n",
        "    except Exception as e:\n",
        "        print(f\"Error loading models: {str(e)}\")\n",
        "\n",
        "def load_and_preprocess_image(image_path):\n",
        "    \"\"\"Load and preprocess image matching your implementation\"\"\"\n",
        "    # Load the NIfTI file\n",
        "    nifti_img = nib.load(image_path)\n",
        "\n",
        "    # Get the data as a numpy array\n",
        "    img_data = nifti_img.get_fdata()\n",
        "\n",
        "    # If the image is 3D, take a middle slice\n",
        "    if len(img_data.shape) == 3:\n",
        "        middle_slice = img_data.shape[2] // 2\n",
        "        img_slice = img_data[:, :, middle_slice]\n",
        "    else:\n",
        "        img_slice = img_data\n",
        "\n",
        "    # Normalize the image to 0-1 range\n",
        "    img_normalized = (img_slice - img_slice.min()) / (img_slice.max() - img_slice.min())\n",
        "\n",
        "    # Resize to 128x128\n",
        "    img_resized = resize(img_normalized, (128, 128), anti_aliasing=True)\n",
        "\n",
        "    # Convert to RGB (3 channels)\n",
        "    img_rgb = np.stack([img_resized] * 3, axis=-1)\n",
        "\n",
        "    return img_rgb\n",
        "\n",
        "def predict_on_batch(image_batch, tabular_data):\n",
        "    \"\"\"Prediction function matching your implementation\"\"\"\n",
        "    # Ensure image_batch has the correct shape (None, 10, 128, 128, 3)\n",
        "    if len(image_batch.shape) == 3:  # LIME passes a single image (128, 128, 3)\n",
        "        image_batch = np.expand_dims(image_batch, axis=0)  # Shape to (1, 128, 128, 3)\n",
        "    if len(image_batch.shape) == 4:  # Shape is (N, 128, 128, 3)\n",
        "        image_batch = np.expand_dims(image_batch, axis=1)  # Shape to (N, 1, 128, 128, 3)\n",
        "        image_batch = np.repeat(image_batch, 10, axis=1)  # Expand to (N, 10, 128, 128, 3)\n",
        "\n",
        "    # Repeat tabular data to match the number of image samples\n",
        "    num_samples = image_batch.shape[0]\n",
        "    if tabular_data.shape[0] == 1:\n",
        "        tabular_data_repeated = np.repeat(tabular_data, num_samples, axis=0)\n",
        "    else:\n",
        "        tabular_data_repeated = tabular_data\n",
        "\n",
        "    # Make predictions\n",
        "    predictions = main_model.predict([image_batch, tabular_data_repeated])\n",
        "    return predictions\n",
        "\n",
        "def generate_lime_explanation(model, image, tabular_data):\n",
        "    \"\"\"Generate LIME explanation matching your implementation\"\"\"\n",
        "    explainer = lime_image.LimeImageExplainer()\n",
        "\n",
        "    # Create the classifier function for LIME\n",
        "    classifier_fn = lambda x: predict_on_batch(x, tabular_data)\n",
        "\n",
        "    # Generate explanation\n",
        "    explanation = explainer.explain_instance(\n",
        "        image=image,\n",
        "        classifier_fn=classifier_fn,\n",
        "        top_labels=4,\n",
        "        hide_color=0,\n",
        "        num_samples=1000\n",
        "    )\n",
        "\n",
        "    # Get the explanation for the top predicted label\n",
        "    temp, mask = explanation.get_image_and_mask(\n",
        "        label=explanation.top_labels[0],\n",
        "        positive_only=False,\n",
        "        hide_rest=False\n",
        "    )\n",
        "\n",
        "    # Get prediction for the title\n",
        "    predictions = predict_on_batch(np.expand_dims(image, axis=0), tabular_data)\n",
        "    predicted_class = CLASSES[np.argmax(predictions[0])]\n",
        "\n",
        "    # Create visualization\n",
        "    plt.figure(figsize=(10, 5))\n",
        "\n",
        "    # Original image with prediction\n",
        "    plt.subplot(1, 2, 1)\n",
        "    plt.imshow(image, cmap='gray')\n",
        "    plt.title(f'Original MRI Slice\\nPredicted: {predicted_class}')\n",
        "    plt.axis('off')\n",
        "\n",
        "    # LIME explanation\n",
        "    plt.subplot(1, 2, 2)\n",
        "    plt.imshow(temp, cmap='gray')\n",
        "    plt.imshow(mask, cmap=plt.cm.hot, alpha=0.5)\n",
        "    plt.title('LIME Explanation')\n",
        "    plt.axis('off')\n",
        "\n",
        "    plt.tight_layout()\n",
        "\n",
        "    # Save to buffer\n",
        "    buf = io.BytesIO()\n",
        "    plt.savefig(buf, format='png', dpi=300, bbox_inches='tight',\n",
        "                facecolor='white', edgecolor='none')\n",
        "    plt.close()\n",
        "    buf.seek(0)\n",
        "\n",
        "    return base64.b64encode(buf.getvalue()).decode('utf-8')\n",
        "\n",
        "@app.route('/')\n",
        "def home():\n",
        "    return render_template_string(HTML_TEMPLATE)\n",
        "\n",
        "@app.route('/predict', methods=['POST'])\n",
        "def predict():\n",
        "    try:\n",
        "        if main_model is None:\n",
        "            load_models()\n",
        "\n",
        "        if 'file' not in request.files:\n",
        "            return render_template_string(HTML_TEMPLATE, error=\"No file uploaded\")\n",
        "        file = request.files['file']\n",
        "\n",
        "        try:\n",
        "            age = float(request.form['age'])\n",
        "            education = int(request.form['education'])\n",
        "            mmse = float(request.form['mmse'])\n",
        "            nwbv = float(request.form['nwbv'])\n",
        "        except:\n",
        "            return render_template_string(HTML_TEMPLATE, error=\"Invalid input values\")\n",
        "\n",
        "        filename = secure_filename(file.filename)\n",
        "        filepath = os.path.join(app.config['UPLOAD_FOLDER'], filename)\n",
        "        file.save(filepath)\n",
        "\n",
        "        try:\n",
        "            # Load and preprocess image\n",
        "            mri_slice_rgb = load_and_preprocess_image(filepath)\n",
        "\n",
        "            # Prepare tabular data\n",
        "            tabular_data = np.array([[age, education, mmse, nwbv]])\n",
        "\n",
        "            # Get predictions\n",
        "            predictions = predict_on_batch(np.expand_dims(mri_slice_rgb, axis=0), tabular_data)\n",
        "            predicted_class = CLASSES[np.argmax(predictions[0])]\n",
        "            probabilities = {\n",
        "                class_name: float(prob)\n",
        "                for class_name, prob in zip(CLASSES, predictions[0])\n",
        "            }\n",
        "\n",
        "            # Generate LIME explanation\n",
        "            explanation_image = generate_lime_explanation(\n",
        "                main_model,\n",
        "                mri_slice_rgb,\n",
        "                tabular_data\n",
        "            )\n",
        "\n",
        "            result = {\n",
        "                'predicted_class': predicted_class,\n",
        "                'probabilities': probabilities,\n",
        "                'explanation_image': explanation_image\n",
        "            }\n",
        "\n",
        "            return render_template_string(HTML_TEMPLATE, result=result)\n",
        "\n",
        "        finally:\n",
        "            if os.path.exists(filepath):\n",
        "                os.remove(filepath)\n",
        "\n",
        "    except Exception as e:\n",
        "        print(f\"Error in predict route: {str(e)}\")\n",
        "        return render_template_string(HTML_TEMPLATE, error=str(e))\n",
        "\n",
        "if __name__ == '__main__':\n",
        "    # Load models at startup\n",
        "    load_models()\n",
        "    # Run the app\n",
        "    from werkzeug.serving import run_simple\n",
        "    run_simple('127.0.0.1', 5000, app, use_debugger=True, use_reloader=False)"
      ]
    }
  ],
  "metadata": {
    "kernelspec": {
      "display_name": "Python 3 (ipykernel)",
      "language": "python",
      "name": "python3"
    },
    "language_info": {
      "codemirror_mode": {
        "name": "ipython",
        "version": 3
      },
      "file_extension": ".py",
      "mimetype": "text/x-python",
      "name": "python",
      "nbconvert_exporter": "python",
      "pygments_lexer": "ipython3",
      "version": "3.11.1"
    },
    "colab": {
      "provenance": [],
      "include_colab_link": true
    }
  },
  "nbformat": 4,
  "nbformat_minor": 5
}